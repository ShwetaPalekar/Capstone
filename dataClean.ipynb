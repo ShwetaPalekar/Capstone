{
 "cells": [
  {
   "cell_type": "code",
   "execution_count": 1,
   "id": "406645fa",
   "metadata": {},
   "outputs": [],
   "source": [
    "import pandas as pd"
   ]
  },
  {
   "cell_type": "code",
   "execution_count": 2,
   "id": "8ca546a3",
   "metadata": {},
   "outputs": [],
   "source": [
    "#All the csv for the capstone project \n",
    "# artist_df = pd.read_csv('artist.csv')\n",
    "# image_link_df = pd.read_csv('image_link.csv') \n",
    "# museum_df = pd.read_csv('museum.csv') \n",
    "# museum_hours_df = pd.read_csv('museum_hours.csv') \n",
    "# product_size_df = pd.read_csv('product_size.csv') \n",
    "# subject_df = pd.read_csv('subject.csv') \n",
    "# work_df = pd.read_csv('work.csv') \n",
    "# canvas_size_df = pd.read_csv('canvas_size.csv') "
   ]
  },
  {
   "cell_type": "markdown",
   "id": "b9f7c22c",
   "metadata": {},
   "source": [
    "#  Data cleaning for  Artist "
   ]
  },
  {
   "cell_type": "code",
   "execution_count": 3,
   "id": "9174f6c9",
   "metadata": {},
   "outputs": [],
   "source": [
    "artist_df = pd.read_csv('artist.csv')\n"
   ]
  },
  {
   "cell_type": "code",
   "execution_count": 4,
   "id": "151d0d8a",
   "metadata": {},
   "outputs": [
    {
     "data": {
      "text/html": [
       "<div>\n",
       "<style scoped>\n",
       "    .dataframe tbody tr th:only-of-type {\n",
       "        vertical-align: middle;\n",
       "    }\n",
       "\n",
       "    .dataframe tbody tr th {\n",
       "        vertical-align: top;\n",
       "    }\n",
       "\n",
       "    .dataframe thead th {\n",
       "        text-align: right;\n",
       "    }\n",
       "</style>\n",
       "<table border=\"1\" class=\"dataframe\">\n",
       "  <thead>\n",
       "    <tr style=\"text-align: right;\">\n",
       "      <th></th>\n",
       "      <th>artist_id</th>\n",
       "      <th>full_name</th>\n",
       "      <th>first_name</th>\n",
       "      <th>middle_names</th>\n",
       "      <th>last_name</th>\n",
       "      <th>nationality</th>\n",
       "      <th>style</th>\n",
       "      <th>birth</th>\n",
       "      <th>death</th>\n",
       "    </tr>\n",
       "  </thead>\n",
       "  <tbody>\n",
       "    <tr>\n",
       "      <th>0</th>\n",
       "      <td>500</td>\n",
       "      <td>Pierre-Auguste Renoir</td>\n",
       "      <td>Pierre</td>\n",
       "      <td>Auguste</td>\n",
       "      <td>Renoir</td>\n",
       "      <td>French</td>\n",
       "      <td>Impressionist</td>\n",
       "      <td>1841</td>\n",
       "      <td>1919</td>\n",
       "    </tr>\n",
       "    <tr>\n",
       "      <th>1</th>\n",
       "      <td>501</td>\n",
       "      <td>Alexandre Cabanel</td>\n",
       "      <td>Alexandre</td>\n",
       "      <td>NaN</td>\n",
       "      <td>Cabanel</td>\n",
       "      <td>French</td>\n",
       "      <td>Classicist</td>\n",
       "      <td>1823</td>\n",
       "      <td>1889</td>\n",
       "    </tr>\n",
       "    <tr>\n",
       "      <th>2</th>\n",
       "      <td>502</td>\n",
       "      <td>James Ensor</td>\n",
       "      <td>James</td>\n",
       "      <td>NaN</td>\n",
       "      <td>Ensor</td>\n",
       "      <td>Belgian</td>\n",
       "      <td>Expressionist</td>\n",
       "      <td>1860</td>\n",
       "      <td>1949</td>\n",
       "    </tr>\n",
       "    <tr>\n",
       "      <th>3</th>\n",
       "      <td>503</td>\n",
       "      <td>Maximilien Luce</td>\n",
       "      <td>Maximilien</td>\n",
       "      <td>NaN</td>\n",
       "      <td>Luce</td>\n",
       "      <td>French</td>\n",
       "      <td>Pointillist</td>\n",
       "      <td>1858</td>\n",
       "      <td>1941</td>\n",
       "    </tr>\n",
       "    <tr>\n",
       "      <th>4</th>\n",
       "      <td>504</td>\n",
       "      <td>August Macke</td>\n",
       "      <td>August</td>\n",
       "      <td>NaN</td>\n",
       "      <td>Macke</td>\n",
       "      <td>German</td>\n",
       "      <td>Expressionist</td>\n",
       "      <td>1887</td>\n",
       "      <td>1914</td>\n",
       "    </tr>\n",
       "  </tbody>\n",
       "</table>\n",
       "</div>"
      ],
      "text/plain": [
       "   artist_id              full_name  first_name middle_names last_name  \\\n",
       "0        500  Pierre-Auguste Renoir      Pierre      Auguste    Renoir   \n",
       "1        501      Alexandre Cabanel   Alexandre          NaN   Cabanel   \n",
       "2        502            James Ensor       James          NaN     Ensor   \n",
       "3        503        Maximilien Luce  Maximilien          NaN      Luce   \n",
       "4        504           August Macke      August          NaN     Macke   \n",
       "\n",
       "  nationality          style  birth  death  \n",
       "0      French  Impressionist   1841   1919  \n",
       "1      French     Classicist   1823   1889  \n",
       "2     Belgian  Expressionist   1860   1949  \n",
       "3      French    Pointillist   1858   1941  \n",
       "4      German  Expressionist   1887   1914  "
      ]
     },
     "execution_count": 4,
     "metadata": {},
     "output_type": "execute_result"
    }
   ],
   "source": [
    "#Checking for first 5 rows using head function.\n",
    "artist_df.head()"
   ]
  },
  {
   "cell_type": "code",
   "execution_count": 5,
   "id": "07a9bcf3",
   "metadata": {},
   "outputs": [
    {
     "data": {
      "text/plain": [
       "(421, 9)"
      ]
     },
     "execution_count": 5,
     "metadata": {},
     "output_type": "execute_result"
    }
   ],
   "source": [
    "# Checking for total number of rows and columns using shape function\n",
    "artist_df.shape"
   ]
  },
  {
   "cell_type": "code",
   "execution_count": 6,
   "id": "04ef172c",
   "metadata": {},
   "outputs": [
    {
     "data": {
      "text/plain": [
       "Index(['artist_id', 'full_name', 'first_name', 'middle_names', 'last_name',\n",
       "       'nationality', 'style', 'birth', 'death'],\n",
       "      dtype='object')"
      ]
     },
     "execution_count": 6,
     "metadata": {},
     "output_type": "execute_result"
    }
   ],
   "source": [
    "# Checking for columns names for the artist table \n",
    "artist_df.columns"
   ]
  },
  {
   "cell_type": "code",
   "execution_count": 7,
   "id": "0b6d8e9c",
   "metadata": {},
   "outputs": [
    {
     "data": {
      "text/plain": [
       "artist_id        int64\n",
       "full_name       object\n",
       "first_name      object\n",
       "middle_names    object\n",
       "last_name       object\n",
       "nationality     object\n",
       "style           object\n",
       "birth            int64\n",
       "death            int64\n",
       "dtype: object"
      ]
     },
     "execution_count": 7,
     "metadata": {},
     "output_type": "execute_result"
    }
   ],
   "source": [
    "# Checking for datatyes for each of the columns using dtypes function\n",
    "artist_df.dtypes"
   ]
  },
  {
   "cell_type": "code",
   "execution_count": 8,
   "id": "b4199bcf",
   "metadata": {},
   "outputs": [
    {
     "name": "stdout",
     "output_type": "stream",
     "text": [
      "<class 'pandas.core.frame.DataFrame'>\n",
      "RangeIndex: 421 entries, 0 to 420\n",
      "Data columns (total 9 columns):\n",
      " #   Column        Non-Null Count  Dtype \n",
      "---  ------        --------------  ----- \n",
      " 0   artist_id     421 non-null    int64 \n",
      " 1   full_name     421 non-null    object\n",
      " 2   first_name    421 non-null    object\n",
      " 3   middle_names  148 non-null    object\n",
      " 4   last_name     421 non-null    object\n",
      " 5   nationality   421 non-null    object\n",
      " 6   style         421 non-null    object\n",
      " 7   birth         421 non-null    int64 \n",
      " 8   death         421 non-null    int64 \n",
      "dtypes: int64(3), object(6)\n",
      "memory usage: 29.7+ KB\n"
     ]
    }
   ],
   "source": [
    "# Checking for non-nulls,count,dtype for each of the columns for the artist table \n",
    "artist_df.info()"
   ]
  },
  {
   "cell_type": "code",
   "execution_count": 9,
   "id": "98f267dc",
   "metadata": {},
   "outputs": [
    {
     "data": {
      "text/plain": [
       "artist_id         0\n",
       "full_name         0\n",
       "first_name        0\n",
       "middle_names    273\n",
       "last_name         0\n",
       "nationality       0\n",
       "style             0\n",
       "birth             0\n",
       "death             0\n",
       "dtype: int64"
      ]
     },
     "execution_count": 9,
     "metadata": {},
     "output_type": "execute_result"
    }
   ],
   "source": [
    "# Checking for missing values in each of the column for the artist table  \n",
    "artist_df.isnull().sum()"
   ]
  },
  {
   "cell_type": "code",
   "execution_count": 15,
   "id": "fd00874e",
   "metadata": {},
   "outputs": [],
   "source": [
    "# Removing Middle names column as it will not be used for analysis.\n",
    "artist_df = artist_df.drop('middle_names', axis=1)\n"
   ]
  },
  {
   "cell_type": "code",
   "execution_count": 16,
   "id": "9a63f2e4",
   "metadata": {},
   "outputs": [
    {
     "data": {
      "text/html": [
       "<div>\n",
       "<style scoped>\n",
       "    .dataframe tbody tr th:only-of-type {\n",
       "        vertical-align: middle;\n",
       "    }\n",
       "\n",
       "    .dataframe tbody tr th {\n",
       "        vertical-align: top;\n",
       "    }\n",
       "\n",
       "    .dataframe thead th {\n",
       "        text-align: right;\n",
       "    }\n",
       "</style>\n",
       "<table border=\"1\" class=\"dataframe\">\n",
       "  <thead>\n",
       "    <tr style=\"text-align: right;\">\n",
       "      <th></th>\n",
       "      <th>artist_id</th>\n",
       "      <th>full_name</th>\n",
       "      <th>first_name</th>\n",
       "      <th>last_name</th>\n",
       "      <th>nationality</th>\n",
       "      <th>style</th>\n",
       "      <th>birth</th>\n",
       "      <th>death</th>\n",
       "    </tr>\n",
       "  </thead>\n",
       "  <tbody>\n",
       "    <tr>\n",
       "      <th>0</th>\n",
       "      <td>500</td>\n",
       "      <td>Pierre-Auguste Renoir</td>\n",
       "      <td>Pierre</td>\n",
       "      <td>Renoir</td>\n",
       "      <td>French</td>\n",
       "      <td>Impressionist</td>\n",
       "      <td>1841</td>\n",
       "      <td>1919</td>\n",
       "    </tr>\n",
       "    <tr>\n",
       "      <th>1</th>\n",
       "      <td>501</td>\n",
       "      <td>Alexandre Cabanel</td>\n",
       "      <td>Alexandre</td>\n",
       "      <td>Cabanel</td>\n",
       "      <td>French</td>\n",
       "      <td>Classicist</td>\n",
       "      <td>1823</td>\n",
       "      <td>1889</td>\n",
       "    </tr>\n",
       "    <tr>\n",
       "      <th>2</th>\n",
       "      <td>502</td>\n",
       "      <td>James Ensor</td>\n",
       "      <td>James</td>\n",
       "      <td>Ensor</td>\n",
       "      <td>Belgian</td>\n",
       "      <td>Expressionist</td>\n",
       "      <td>1860</td>\n",
       "      <td>1949</td>\n",
       "    </tr>\n",
       "    <tr>\n",
       "      <th>3</th>\n",
       "      <td>503</td>\n",
       "      <td>Maximilien Luce</td>\n",
       "      <td>Maximilien</td>\n",
       "      <td>Luce</td>\n",
       "      <td>French</td>\n",
       "      <td>Pointillist</td>\n",
       "      <td>1858</td>\n",
       "      <td>1941</td>\n",
       "    </tr>\n",
       "    <tr>\n",
       "      <th>4</th>\n",
       "      <td>504</td>\n",
       "      <td>August Macke</td>\n",
       "      <td>August</td>\n",
       "      <td>Macke</td>\n",
       "      <td>German</td>\n",
       "      <td>Expressionist</td>\n",
       "      <td>1887</td>\n",
       "      <td>1914</td>\n",
       "    </tr>\n",
       "    <tr>\n",
       "      <th>5</th>\n",
       "      <td>505</td>\n",
       "      <td>Thomas Gainsborough</td>\n",
       "      <td>Thomas</td>\n",
       "      <td>Gainsborough</td>\n",
       "      <td>English</td>\n",
       "      <td>Rococo</td>\n",
       "      <td>1727</td>\n",
       "      <td>1788</td>\n",
       "    </tr>\n",
       "    <tr>\n",
       "      <th>6</th>\n",
       "      <td>506</td>\n",
       "      <td>Julien Dupré</td>\n",
       "      <td>Julien</td>\n",
       "      <td>Dupre</td>\n",
       "      <td>French</td>\n",
       "      <td>Naturalist</td>\n",
       "      <td>1851</td>\n",
       "      <td>1910</td>\n",
       "    </tr>\n",
       "    <tr>\n",
       "      <th>7</th>\n",
       "      <td>507</td>\n",
       "      <td>George Catlin</td>\n",
       "      <td>George</td>\n",
       "      <td>Catlin</td>\n",
       "      <td>American</td>\n",
       "      <td>American West</td>\n",
       "      <td>1796</td>\n",
       "      <td>1872</td>\n",
       "    </tr>\n",
       "    <tr>\n",
       "      <th>8</th>\n",
       "      <td>508</td>\n",
       "      <td>Federico Zandomeneghi</td>\n",
       "      <td>Federico</td>\n",
       "      <td>Zandomeneghi</td>\n",
       "      <td>Italian</td>\n",
       "      <td>Expressionist</td>\n",
       "      <td>1841</td>\n",
       "      <td>1917</td>\n",
       "    </tr>\n",
       "    <tr>\n",
       "      <th>9</th>\n",
       "      <td>509</td>\n",
       "      <td>Cornelis Springer</td>\n",
       "      <td>Cornelis</td>\n",
       "      <td>Springer</td>\n",
       "      <td>Dutch</td>\n",
       "      <td>Landscape Art</td>\n",
       "      <td>1817</td>\n",
       "      <td>1891</td>\n",
       "    </tr>\n",
       "  </tbody>\n",
       "</table>\n",
       "</div>"
      ],
      "text/plain": [
       "   artist_id              full_name  first_name     last_name nationality  \\\n",
       "0        500  Pierre-Auguste Renoir      Pierre        Renoir      French   \n",
       "1        501      Alexandre Cabanel   Alexandre       Cabanel      French   \n",
       "2        502            James Ensor       James         Ensor     Belgian   \n",
       "3        503        Maximilien Luce  Maximilien          Luce      French   \n",
       "4        504           August Macke      August         Macke      German   \n",
       "5        505    Thomas Gainsborough      Thomas  Gainsborough     English   \n",
       "6        506           Julien Dupré      Julien         Dupre      French   \n",
       "7        507          George Catlin      George        Catlin    American   \n",
       "8        508  Federico Zandomeneghi    Federico  Zandomeneghi     Italian   \n",
       "9        509      Cornelis Springer    Cornelis      Springer       Dutch   \n",
       "\n",
       "           style  birth  death  \n",
       "0  Impressionist   1841   1919  \n",
       "1     Classicist   1823   1889  \n",
       "2  Expressionist   1860   1949  \n",
       "3    Pointillist   1858   1941  \n",
       "4  Expressionist   1887   1914  \n",
       "5         Rococo   1727   1788  \n",
       "6     Naturalist   1851   1910  \n",
       "7  American West   1796   1872  \n",
       "8  Expressionist   1841   1917  \n",
       "9  Landscape Art   1817   1891  "
      ]
     },
     "execution_count": 16,
     "metadata": {},
     "output_type": "execute_result"
    }
   ],
   "source": [
    "#Checking if the blanks are filled with ' '\n",
    "artist_df.head(10)"
   ]
  },
  {
   "cell_type": "code",
   "execution_count": 17,
   "id": "d84e5a58",
   "metadata": {
    "scrolled": true
   },
   "outputs": [
    {
     "data": {
      "text/plain": [
       "artist_id      421\n",
       "full_name      421\n",
       "first_name     219\n",
       "last_name      414\n",
       "nationality     18\n",
       "style           35\n",
       "birth          223\n",
       "death          216\n",
       "dtype: int64"
      ]
     },
     "execution_count": 17,
     "metadata": {},
     "output_type": "execute_result"
    }
   ],
   "source": [
    "#Checking for unique values in each of the column \n",
    "artist_df.nunique()\n"
   ]
  },
  {
   "cell_type": "code",
   "execution_count": 18,
   "id": "c4477eb6",
   "metadata": {},
   "outputs": [
    {
     "data": {
      "text/plain": [
       "205"
      ]
     },
     "execution_count": 18,
     "metadata": {},
     "output_type": "execute_result"
    }
   ],
   "source": [
    "#Checking for duplicates in each of the columns\n",
    "artist_df.duplicated('artist_id').sum()\n",
    "artist_df.duplicated('full_name').sum()\n",
    "# Fist name  contains duplicates. \n",
    "artist_df.duplicated('first_name').sum()\n",
    "##Last name contains duplicates\n",
    "artist_df.duplicated('last_name').sum()\n",
    "#Nationality column contains duplciates\n",
    "artist_df.duplicated('nationality').sum()\n",
    "#style column contains duplciates\n",
    "artist_df.duplicated('style').sum()\n",
    "#birth column contains duplciates\n",
    "artist_df.duplicated('birth').sum()\n",
    "#death column contains duplciates           \n",
    "artist_df.duplicated('death').sum()\n",
    "\n",
    "# 'artist_id' and ''full_name' are the columns containing unique values which are important for the analysis. \n",
    "# 'first_name','last_name' contains duplicates which are ignored since full names are unique.\n",
    "# 'nationality' contains duplicates but it is differentiated based on each unique 'artist_id'.\n",
    "# 'style' contains duplicates but it is differentiated based on each unique 'artist_id'.\n",
    "# 'birth'  contains duplicates but it is differentiated based on each unique 'artist_id'.\n",
    "# 'death' contains duplicates but it is differentiated based on each unique 'artist_id'."
   ]
  },
  {
   "cell_type": "code",
   "execution_count": 19,
   "id": "fdcbbf77",
   "metadata": {},
   "outputs": [],
   "source": [
    "artist_df.to_csv('artist_clean.csv', encoding='utf-8')"
   ]
  },
  {
   "cell_type": "markdown",
   "id": "af2e0ee3",
   "metadata": {},
   "source": [
    "#  Data cleaning for Image_link"
   ]
  },
  {
   "cell_type": "code",
   "execution_count": 20,
   "id": "bde74685",
   "metadata": {},
   "outputs": [],
   "source": [
    "image_link_df = pd.read_csv('image_link.csv') "
   ]
  },
  {
   "cell_type": "code",
   "execution_count": 21,
   "id": "822ec073",
   "metadata": {},
   "outputs": [
    {
     "data": {
      "text/html": [
       "<div>\n",
       "<style scoped>\n",
       "    .dataframe tbody tr th:only-of-type {\n",
       "        vertical-align: middle;\n",
       "    }\n",
       "\n",
       "    .dataframe tbody tr th {\n",
       "        vertical-align: top;\n",
       "    }\n",
       "\n",
       "    .dataframe thead th {\n",
       "        text-align: right;\n",
       "    }\n",
       "</style>\n",
       "<table border=\"1\" class=\"dataframe\">\n",
       "  <thead>\n",
       "    <tr style=\"text-align: right;\">\n",
       "      <th></th>\n",
       "      <th>work_id</th>\n",
       "      <th>url</th>\n",
       "      <th>thumbnail_small_url</th>\n",
       "      <th>thumbnail_large_url</th>\n",
       "    </tr>\n",
       "  </thead>\n",
       "  <tbody>\n",
       "    <tr>\n",
       "      <th>0</th>\n",
       "      <td>181978</td>\n",
       "      <td>https://v5.airtableusercontent.com/v1/15/15/16...</td>\n",
       "      <td>https://v5.airtableusercontent.com/v1/15/15/16...</td>\n",
       "      <td>https://v5.airtableusercontent.com/v1/15/15/16...</td>\n",
       "    </tr>\n",
       "    <tr>\n",
       "      <th>1</th>\n",
       "      <td>173188</td>\n",
       "      <td>https://v5.airtableusercontent.com/v1/15/15/16...</td>\n",
       "      <td>https://v5.airtableusercontent.com/v1/15/15/16...</td>\n",
       "      <td>https://v5.airtableusercontent.com/v1/15/15/16...</td>\n",
       "    </tr>\n",
       "    <tr>\n",
       "      <th>2</th>\n",
       "      <td>194065</td>\n",
       "      <td>https://v5.airtableusercontent.com/v1/15/15/16...</td>\n",
       "      <td>https://v5.airtableusercontent.com/v1/15/15/16...</td>\n",
       "      <td>https://v5.airtableusercontent.com/v1/15/15/16...</td>\n",
       "    </tr>\n",
       "    <tr>\n",
       "      <th>3</th>\n",
       "      <td>129337</td>\n",
       "      <td>https://v5.airtableusercontent.com/v1/15/15/16...</td>\n",
       "      <td>https://v5.airtableusercontent.com/v1/15/15/16...</td>\n",
       "      <td>https://v5.airtableusercontent.com/v1/15/15/16...</td>\n",
       "    </tr>\n",
       "    <tr>\n",
       "      <th>4</th>\n",
       "      <td>141073</td>\n",
       "      <td>https://v5.airtableusercontent.com/v1/15/15/16...</td>\n",
       "      <td>https://v5.airtableusercontent.com/v1/15/15/16...</td>\n",
       "      <td>https://v5.airtableusercontent.com/v1/15/15/16...</td>\n",
       "    </tr>\n",
       "  </tbody>\n",
       "</table>\n",
       "</div>"
      ],
      "text/plain": [
       "   work_id                                                url  \\\n",
       "0   181978  https://v5.airtableusercontent.com/v1/15/15/16...   \n",
       "1   173188  https://v5.airtableusercontent.com/v1/15/15/16...   \n",
       "2   194065  https://v5.airtableusercontent.com/v1/15/15/16...   \n",
       "3   129337  https://v5.airtableusercontent.com/v1/15/15/16...   \n",
       "4   141073  https://v5.airtableusercontent.com/v1/15/15/16...   \n",
       "\n",
       "                                 thumbnail_small_url  \\\n",
       "0  https://v5.airtableusercontent.com/v1/15/15/16...   \n",
       "1  https://v5.airtableusercontent.com/v1/15/15/16...   \n",
       "2  https://v5.airtableusercontent.com/v1/15/15/16...   \n",
       "3  https://v5.airtableusercontent.com/v1/15/15/16...   \n",
       "4  https://v5.airtableusercontent.com/v1/15/15/16...   \n",
       "\n",
       "                                 thumbnail_large_url  \n",
       "0  https://v5.airtableusercontent.com/v1/15/15/16...  \n",
       "1  https://v5.airtableusercontent.com/v1/15/15/16...  \n",
       "2  https://v5.airtableusercontent.com/v1/15/15/16...  \n",
       "3  https://v5.airtableusercontent.com/v1/15/15/16...  \n",
       "4  https://v5.airtableusercontent.com/v1/15/15/16...  "
      ]
     },
     "execution_count": 21,
     "metadata": {},
     "output_type": "execute_result"
    }
   ],
   "source": [
    "#Checking for first 5 rows using head function.\n",
    "image_link_df.head(5)"
   ]
  },
  {
   "cell_type": "code",
   "execution_count": 22,
   "id": "b2f22a85",
   "metadata": {},
   "outputs": [
    {
     "data": {
      "text/plain": [
       "(14775, 4)"
      ]
     },
     "execution_count": 22,
     "metadata": {},
     "output_type": "execute_result"
    }
   ],
   "source": [
    "# Checking for total number of rows and columns using shape function\n",
    "image_link_df.shape"
   ]
  },
  {
   "cell_type": "code",
   "execution_count": 23,
   "id": "46432786",
   "metadata": {},
   "outputs": [
    {
     "data": {
      "text/plain": [
       "Index(['work_id', 'url', 'thumbnail_small_url', 'thumbnail_large_url'], dtype='object')"
      ]
     },
     "execution_count": 23,
     "metadata": {},
     "output_type": "execute_result"
    }
   ],
   "source": [
    "# Checking for columns names for the image_link table \n",
    "image_link_df.columns"
   ]
  },
  {
   "cell_type": "code",
   "execution_count": 24,
   "id": "9513f6b6",
   "metadata": {},
   "outputs": [
    {
     "data": {
      "text/plain": [
       "work_id                 int64\n",
       "url                    object\n",
       "thumbnail_small_url    object\n",
       "thumbnail_large_url    object\n",
       "dtype: object"
      ]
     },
     "execution_count": 24,
     "metadata": {},
     "output_type": "execute_result"
    }
   ],
   "source": [
    "# Checking for datatyes for each of the columns using dtypes function\n",
    "image_link_df.dtypes"
   ]
  },
  {
   "cell_type": "code",
   "execution_count": 25,
   "id": "3f62aba9",
   "metadata": {},
   "outputs": [
    {
     "name": "stdout",
     "output_type": "stream",
     "text": [
      "<class 'pandas.core.frame.DataFrame'>\n",
      "RangeIndex: 14775 entries, 0 to 14774\n",
      "Data columns (total 4 columns):\n",
      " #   Column               Non-Null Count  Dtype \n",
      "---  ------               --------------  ----- \n",
      " 0   work_id              14775 non-null  int64 \n",
      " 1   url                  14775 non-null  object\n",
      " 2   thumbnail_small_url  14773 non-null  object\n",
      " 3   thumbnail_large_url  14773 non-null  object\n",
      "dtypes: int64(1), object(3)\n",
      "memory usage: 461.8+ KB\n"
     ]
    }
   ],
   "source": [
    "# Checking for non-nulls,count,dtype for each of the columns for the image_link table \n",
    "image_link_df.info()"
   ]
  },
  {
   "cell_type": "code",
   "execution_count": 26,
   "id": "61ae5508",
   "metadata": {},
   "outputs": [
    {
     "data": {
      "text/plain": [
       "work_id                0\n",
       "url                    0\n",
       "thumbnail_small_url    2\n",
       "thumbnail_large_url    2\n",
       "dtype: int64"
      ]
     },
     "execution_count": 26,
     "metadata": {},
     "output_type": "execute_result"
    }
   ],
   "source": [
    "# CHecking for missing values \n",
    "image_link_df.isnull().sum()\n",
    "\n"
   ]
  },
  {
   "cell_type": "code",
   "execution_count": 27,
   "id": "8390e751",
   "metadata": {},
   "outputs": [
    {
     "data": {
      "text/plain": [
       "work_id                0\n",
       "url                    0\n",
       "thumbnail_small_url    0\n",
       "thumbnail_large_url    0\n",
       "dtype: int64"
      ]
     },
     "execution_count": 27,
     "metadata": {},
     "output_type": "execute_result"
    }
   ],
   "source": [
    "# Using 'fillna' for the 'thumbnail_small_url'  to remove blanks for the image_link table\n",
    "image_link_df['thumbnail_small_url'].fillna('NaN',inplace=True)\n",
    "image_link_df.isnull().sum()\n",
    "\n",
    "# Using 'fillna' for the 'thumbnail_large_url'  to remove blanks for the image_link table\n",
    "image_link_df['thumbnail_large_url'].fillna('NaN',inplace=True)\n",
    "image_link_df.isnull().sum()"
   ]
  },
  {
   "cell_type": "code",
   "execution_count": 28,
   "id": "d8905c2e",
   "metadata": {},
   "outputs": [
    {
     "data": {
      "text/plain": [
       "61"
      ]
     },
     "execution_count": 28,
     "metadata": {},
     "output_type": "execute_result"
    }
   ],
   "source": [
    "# Checking for duplicates for image_link\n",
    "image_link_df.duplicated('work_id').sum()\n",
    "#  There are 60 duplicates for work_id. It will be ignored as it is not going to affect the analysis.\n",
    "image_link_df.duplicated('url').sum()\n",
    "#  There are 60 duplicates for url. It will be ignored as it is not going to affect affect the analysis.\n",
    "image_link_df.duplicated('thumbnail_small_url').sum()\n",
    "#  There are 61 duplicates for thumbnail_small_url. It will be ignored as it is not going to affect affect the analysis.\n",
    "image_link_df.duplicated('thumbnail_large_url').sum()\n",
    "#  There are 61 duplicates for thumbnail_large_url. It will be ignored as it is not going to affect affect the analysis."
   ]
  },
  {
   "cell_type": "code",
   "execution_count": 29,
   "id": "2cd1d193",
   "metadata": {},
   "outputs": [],
   "source": [
    "#removing the duplicates from work_id,url,thumbnail_small_url,thumbnail_large_url\n",
    "image_link_df= image_link_df.drop_duplicates()\n"
   ]
  },
  {
   "cell_type": "code",
   "execution_count": 30,
   "id": "d0f477c8",
   "metadata": {},
   "outputs": [
    {
     "data": {
      "text/plain": [
       "1"
      ]
     },
     "execution_count": 30,
     "metadata": {},
     "output_type": "execute_result"
    }
   ],
   "source": [
    "# Checking for duplicates for image_link\n",
    "image_link_df.duplicated('work_id').sum()\n",
    "# Duplicates removed\n",
    "image_link_df.duplicated('url').sum()\n",
    "# Duplicates removed\n",
    "image_link_df.duplicated('thumbnail_small_url')\n",
    "#  There are 1 duplicates as NaN. It will be ignored as it is not going to affect affect the analysis.\n",
    "image_link_df.duplicated('thumbnail_large_url').sum()\n",
    "#  There are 1 duplicates as NaN. It will be ignored as it is not going to affect affect the analysis.\n"
   ]
  },
  {
   "cell_type": "code",
   "execution_count": 31,
   "id": "f99ffb24",
   "metadata": {},
   "outputs": [
    {
     "data": {
      "text/plain": [
       "work_id                14715\n",
       "url                    14715\n",
       "thumbnail_small_url    14714\n",
       "thumbnail_large_url    14714\n",
       "dtype: int64"
      ]
     },
     "execution_count": 31,
     "metadata": {},
     "output_type": "execute_result"
    }
   ],
   "source": [
    "#Checking for unique values in each of the column \n",
    "image_link_df.nunique()"
   ]
  },
  {
   "cell_type": "code",
   "execution_count": 32,
   "id": "7223f28d",
   "metadata": {},
   "outputs": [],
   "source": [
    "image_link_df.to_csv('image_link_clean.csv', encoding='utf-8')"
   ]
  },
  {
   "cell_type": "markdown",
   "id": "2810bbd3",
   "metadata": {},
   "source": [
    "#  Data cleaning for museum_hours"
   ]
  },
  {
   "cell_type": "code",
   "execution_count": 33,
   "id": "35f4650a",
   "metadata": {},
   "outputs": [],
   "source": [
    "museum_hours_df = pd.read_csv('museum_hours.csv')"
   ]
  },
  {
   "cell_type": "code",
   "execution_count": 34,
   "id": "22a57c96",
   "metadata": {},
   "outputs": [
    {
     "data": {
      "text/html": [
       "<div>\n",
       "<style scoped>\n",
       "    .dataframe tbody tr th:only-of-type {\n",
       "        vertical-align: middle;\n",
       "    }\n",
       "\n",
       "    .dataframe tbody tr th {\n",
       "        vertical-align: top;\n",
       "    }\n",
       "\n",
       "    .dataframe thead th {\n",
       "        text-align: right;\n",
       "    }\n",
       "</style>\n",
       "<table border=\"1\" class=\"dataframe\">\n",
       "  <thead>\n",
       "    <tr style=\"text-align: right;\">\n",
       "      <th></th>\n",
       "      <th>museum_id</th>\n",
       "      <th>day</th>\n",
       "      <th>open</th>\n",
       "      <th>close</th>\n",
       "    </tr>\n",
       "  </thead>\n",
       "  <tbody>\n",
       "    <tr>\n",
       "      <th>0</th>\n",
       "      <td>30</td>\n",
       "      <td>Sunday</td>\n",
       "      <td>10:30:AM</td>\n",
       "      <td>05:30:PM</td>\n",
       "    </tr>\n",
       "    <tr>\n",
       "      <th>1</th>\n",
       "      <td>30</td>\n",
       "      <td>Monday</td>\n",
       "      <td>10:30:AM</td>\n",
       "      <td>05:30:PM</td>\n",
       "    </tr>\n",
       "    <tr>\n",
       "      <th>2</th>\n",
       "      <td>30</td>\n",
       "      <td>Tuesday</td>\n",
       "      <td>10:30:AM</td>\n",
       "      <td>05:30:PM</td>\n",
       "    </tr>\n",
       "    <tr>\n",
       "      <th>3</th>\n",
       "      <td>30</td>\n",
       "      <td>Wednesday</td>\n",
       "      <td>10:30:AM</td>\n",
       "      <td>05:30:PM</td>\n",
       "    </tr>\n",
       "    <tr>\n",
       "      <th>4</th>\n",
       "      <td>30</td>\n",
       "      <td>Thusday</td>\n",
       "      <td>10:30:AM</td>\n",
       "      <td>05:30:PM</td>\n",
       "    </tr>\n",
       "  </tbody>\n",
       "</table>\n",
       "</div>"
      ],
      "text/plain": [
       "   museum_id        day      open     close\n",
       "0         30     Sunday  10:30:AM  05:30:PM\n",
       "1         30     Monday  10:30:AM  05:30:PM\n",
       "2         30    Tuesday  10:30:AM  05:30:PM\n",
       "3         30  Wednesday  10:30:AM  05:30:PM\n",
       "4         30    Thusday  10:30:AM  05:30:PM"
      ]
     },
     "execution_count": 34,
     "metadata": {},
     "output_type": "execute_result"
    }
   ],
   "source": [
    "museum_hours_df.head(5)"
   ]
  },
  {
   "cell_type": "code",
   "execution_count": 35,
   "id": "19f03020",
   "metadata": {},
   "outputs": [
    {
     "data": {
      "text/plain": [
       "(351, 4)"
      ]
     },
     "execution_count": 35,
     "metadata": {},
     "output_type": "execute_result"
    }
   ],
   "source": [
    "# Checking for total number of rows and columns using shape function\n",
    "museum_hours_df.shape"
   ]
  },
  {
   "cell_type": "code",
   "execution_count": 36,
   "id": "0574df15",
   "metadata": {},
   "outputs": [
    {
     "data": {
      "text/plain": [
       "Index(['museum_id', 'day', 'open', 'close'], dtype='object')"
      ]
     },
     "execution_count": 36,
     "metadata": {},
     "output_type": "execute_result"
    }
   ],
   "source": [
    "# Checking for columns names for the museum_hours table \n",
    "museum_hours_df.columns"
   ]
  },
  {
   "cell_type": "code",
   "execution_count": 37,
   "id": "56bda6f2",
   "metadata": {},
   "outputs": [
    {
     "data": {
      "text/plain": [
       "museum_id     int64\n",
       "day          object\n",
       "open         object\n",
       "close        object\n",
       "dtype: object"
      ]
     },
     "execution_count": 37,
     "metadata": {},
     "output_type": "execute_result"
    }
   ],
   "source": [
    "# Checking for datatyes for each of the columns using dtypes function\n",
    "museum_hours_df.dtypes"
   ]
  },
  {
   "cell_type": "code",
   "execution_count": 38,
   "id": "a40bd698",
   "metadata": {},
   "outputs": [
    {
     "name": "stdout",
     "output_type": "stream",
     "text": [
      "<class 'pandas.core.frame.DataFrame'>\n",
      "RangeIndex: 351 entries, 0 to 350\n",
      "Data columns (total 4 columns):\n",
      " #   Column     Non-Null Count  Dtype \n",
      "---  ------     --------------  ----- \n",
      " 0   museum_id  351 non-null    int64 \n",
      " 1   day        351 non-null    object\n",
      " 2   open       351 non-null    object\n",
      " 3   close      351 non-null    object\n",
      "dtypes: int64(1), object(3)\n",
      "memory usage: 11.1+ KB\n"
     ]
    }
   ],
   "source": [
    "# Checking for non-nulls,count,dtype for each of the columns for the museum_hours table \n",
    "museum_hours_df.info()"
   ]
  },
  {
   "cell_type": "code",
   "execution_count": 39,
   "id": "5996f2b8",
   "metadata": {},
   "outputs": [
    {
     "data": {
      "text/plain": [
       "museum_id    57\n",
       "day           8\n",
       "open         11\n",
       "close        15\n",
       "dtype: int64"
      ]
     },
     "execution_count": 39,
     "metadata": {},
     "output_type": "execute_result"
    }
   ],
   "source": [
    "#Checking for unique values in each of the column \n",
    "museum_hours_df.nunique()"
   ]
  },
  {
   "cell_type": "code",
   "execution_count": 40,
   "id": "41aea143",
   "metadata": {},
   "outputs": [
    {
     "data": {
      "text/plain": [
       "museum_id    0\n",
       "day          0\n",
       "open         0\n",
       "close        0\n",
       "dtype: int64"
      ]
     },
     "execution_count": 40,
     "metadata": {},
     "output_type": "execute_result"
    }
   ],
   "source": [
    "#Checking for missing values for each column in musesum hours\n",
    "museum_hours_df.isnull().sum()"
   ]
  },
  {
   "cell_type": "code",
   "execution_count": 41,
   "id": "93384a9d",
   "metadata": {},
   "outputs": [
    {
     "data": {
      "text/plain": [
       "294"
      ]
     },
     "execution_count": 41,
     "metadata": {},
     "output_type": "execute_result"
    }
   ],
   "source": [
    "#Checking for duplicates in each of the columns\n",
    "museum_hours_df.duplicated('museum_id').sum()\n",
    "# museum id duplicates are acceptabe as for every museum id there are multiple rows which  describe the musesum opening hours"
   ]
  },
  {
   "cell_type": "code",
   "execution_count": 42,
   "id": "b17b3aeb",
   "metadata": {},
   "outputs": [
    {
     "data": {
      "text/plain": [
       "0         Sunday\n",
       "1         Monday\n",
       "2        Tuesday\n",
       "3      Wednesday\n",
       "4        Thusday\n",
       "         ...    \n",
       "346      Tuesday\n",
       "347    Wednesday\n",
       "348     Thursday\n",
       "349       Friday\n",
       "350     Saturday\n",
       "Name: day, Length: 351, dtype: object"
      ]
     },
     "execution_count": 42,
     "metadata": {},
     "output_type": "execute_result"
    }
   ],
   "source": [
    "# Checking for days column for museum_hours table\n",
    "# Number of days are 8. \n",
    "# Thursday is repeated twice with two different spellings.\n",
    "museum_hours_df.day"
   ]
  },
  {
   "cell_type": "code",
   "execution_count": 43,
   "id": "54fd38e1",
   "metadata": {},
   "outputs": [
    {
     "data": {
      "text/html": [
       "<div>\n",
       "<style scoped>\n",
       "    .dataframe tbody tr th:only-of-type {\n",
       "        vertical-align: middle;\n",
       "    }\n",
       "\n",
       "    .dataframe tbody tr th {\n",
       "        vertical-align: top;\n",
       "    }\n",
       "\n",
       "    .dataframe thead th {\n",
       "        text-align: right;\n",
       "    }\n",
       "</style>\n",
       "<table border=\"1\" class=\"dataframe\">\n",
       "  <thead>\n",
       "    <tr style=\"text-align: right;\">\n",
       "      <th></th>\n",
       "      <th>museum_id</th>\n",
       "      <th>day</th>\n",
       "      <th>open</th>\n",
       "      <th>close</th>\n",
       "    </tr>\n",
       "  </thead>\n",
       "  <tbody>\n",
       "    <tr>\n",
       "      <th>0</th>\n",
       "      <td>30</td>\n",
       "      <td>Sunday</td>\n",
       "      <td>10:30:AM</td>\n",
       "      <td>05:30:PM</td>\n",
       "    </tr>\n",
       "    <tr>\n",
       "      <th>1</th>\n",
       "      <td>30</td>\n",
       "      <td>Monday</td>\n",
       "      <td>10:30:AM</td>\n",
       "      <td>05:30:PM</td>\n",
       "    </tr>\n",
       "    <tr>\n",
       "      <th>2</th>\n",
       "      <td>30</td>\n",
       "      <td>Tuesday</td>\n",
       "      <td>10:30:AM</td>\n",
       "      <td>05:30:PM</td>\n",
       "    </tr>\n",
       "    <tr>\n",
       "      <th>3</th>\n",
       "      <td>30</td>\n",
       "      <td>Wednesday</td>\n",
       "      <td>10:30:AM</td>\n",
       "      <td>05:30:PM</td>\n",
       "    </tr>\n",
       "    <tr>\n",
       "      <th>4</th>\n",
       "      <td>30</td>\n",
       "      <td>Thusday</td>\n",
       "      <td>10:30:AM</td>\n",
       "      <td>05:30:PM</td>\n",
       "    </tr>\n",
       "    <tr>\n",
       "      <th>5</th>\n",
       "      <td>30</td>\n",
       "      <td>Friday</td>\n",
       "      <td>10:30:AM</td>\n",
       "      <td>05:30:PM</td>\n",
       "    </tr>\n",
       "    <tr>\n",
       "      <th>6</th>\n",
       "      <td>30</td>\n",
       "      <td>Saturday</td>\n",
       "      <td>10:30:AM</td>\n",
       "      <td>07:00:PM</td>\n",
       "    </tr>\n",
       "    <tr>\n",
       "      <th>7</th>\n",
       "      <td>31</td>\n",
       "      <td>Sunday</td>\n",
       "      <td>11:00:AM</td>\n",
       "      <td>06:00:PM</td>\n",
       "    </tr>\n",
       "    <tr>\n",
       "      <th>8</th>\n",
       "      <td>31</td>\n",
       "      <td>Monday</td>\n",
       "      <td>11:00:AM</td>\n",
       "      <td>06:00:PM</td>\n",
       "    </tr>\n",
       "    <tr>\n",
       "      <th>9</th>\n",
       "      <td>31</td>\n",
       "      <td>Tuesday</td>\n",
       "      <td>11:00:AM</td>\n",
       "      <td>06:00:PM</td>\n",
       "    </tr>\n",
       "    <tr>\n",
       "      <th>10</th>\n",
       "      <td>31</td>\n",
       "      <td>Wednesday</td>\n",
       "      <td>11:00:AM</td>\n",
       "      <td>06:00:PM</td>\n",
       "    </tr>\n",
       "    <tr>\n",
       "      <th>11</th>\n",
       "      <td>31</td>\n",
       "      <td>Thusday</td>\n",
       "      <td>11:00:AM</td>\n",
       "      <td>06:00:PM</td>\n",
       "    </tr>\n",
       "    <tr>\n",
       "      <th>12</th>\n",
       "      <td>31</td>\n",
       "      <td>Friday</td>\n",
       "      <td>11:00:AM</td>\n",
       "      <td>06:00:PM</td>\n",
       "    </tr>\n",
       "    <tr>\n",
       "      <th>13</th>\n",
       "      <td>31</td>\n",
       "      <td>Saturday</td>\n",
       "      <td>11:00:AM</td>\n",
       "      <td>06:00:PM</td>\n",
       "    </tr>\n",
       "    <tr>\n",
       "      <th>14</th>\n",
       "      <td>32</td>\n",
       "      <td>Sunday</td>\n",
       "      <td>10:00:AM</td>\n",
       "      <td>05:00:PM</td>\n",
       "    </tr>\n",
       "    <tr>\n",
       "      <th>15</th>\n",
       "      <td>32</td>\n",
       "      <td>Monday</td>\n",
       "      <td>10:00:AM</td>\n",
       "      <td>05:00:PM</td>\n",
       "    </tr>\n",
       "    <tr>\n",
       "      <th>16</th>\n",
       "      <td>32</td>\n",
       "      <td>Tuesday</td>\n",
       "      <td>10:00:AM</td>\n",
       "      <td>05:00:PM</td>\n",
       "    </tr>\n",
       "    <tr>\n",
       "      <th>17</th>\n",
       "      <td>32</td>\n",
       "      <td>Wednesday</td>\n",
       "      <td>10:00:AM</td>\n",
       "      <td>05:00:PM</td>\n",
       "    </tr>\n",
       "    <tr>\n",
       "      <th>18</th>\n",
       "      <td>32</td>\n",
       "      <td>Thusday</td>\n",
       "      <td>10:00:AM</td>\n",
       "      <td>05:00:PM</td>\n",
       "    </tr>\n",
       "    <tr>\n",
       "      <th>19</th>\n",
       "      <td>32</td>\n",
       "      <td>Friday</td>\n",
       "      <td>10:00:AM</td>\n",
       "      <td>05:00:PM</td>\n",
       "    </tr>\n",
       "  </tbody>\n",
       "</table>\n",
       "</div>"
      ],
      "text/plain": [
       "    museum_id        day      open     close\n",
       "0          30     Sunday  10:30:AM  05:30:PM\n",
       "1          30     Monday  10:30:AM  05:30:PM\n",
       "2          30    Tuesday  10:30:AM  05:30:PM\n",
       "3          30  Wednesday  10:30:AM  05:30:PM\n",
       "4          30    Thusday  10:30:AM  05:30:PM\n",
       "5          30     Friday  10:30:AM  05:30:PM\n",
       "6          30   Saturday  10:30:AM  07:00:PM\n",
       "7          31     Sunday  11:00:AM  06:00:PM\n",
       "8          31     Monday  11:00:AM  06:00:PM\n",
       "9          31    Tuesday  11:00:AM  06:00:PM\n",
       "10         31  Wednesday  11:00:AM  06:00:PM\n",
       "11         31    Thusday  11:00:AM  06:00:PM\n",
       "12         31     Friday  11:00:AM  06:00:PM\n",
       "13         31   Saturday  11:00:AM  06:00:PM\n",
       "14         32     Sunday  10:00:AM  05:00:PM\n",
       "15         32     Monday  10:00:AM  05:00:PM\n",
       "16         32    Tuesday  10:00:AM  05:00:PM\n",
       "17         32  Wednesday  10:00:AM  05:00:PM\n",
       "18         32    Thusday  10:00:AM  05:00:PM\n",
       "19         32     Friday  10:00:AM  05:00:PM"
      ]
     },
     "execution_count": 43,
     "metadata": {},
     "output_type": "execute_result"
    }
   ],
   "source": [
    "# Changing the spelling of Thursday \n",
    "museum_hours_df['day'].str.replace('Thusday','Thursday')\n",
    "museum_hours_df.head(20)"
   ]
  },
  {
   "cell_type": "code",
   "execution_count": 44,
   "id": "3db8aa14",
   "metadata": {},
   "outputs": [],
   "source": [
    "museum_hours_df.to_csv('museum_hours_clean.csv', encoding='utf-8')"
   ]
  },
  {
   "cell_type": "markdown",
   "id": "ad01c13a",
   "metadata": {},
   "source": [
    "#  Data cleaning for product_size"
   ]
  },
  {
   "cell_type": "code",
   "execution_count": 45,
   "id": "dcf89966",
   "metadata": {},
   "outputs": [],
   "source": [
    "product_size_df = pd.read_csv('product_size.csv') \n"
   ]
  },
  {
   "cell_type": "code",
   "execution_count": 46,
   "id": "181aa1de",
   "metadata": {},
   "outputs": [
    {
     "data": {
      "text/html": [
       "<div>\n",
       "<style scoped>\n",
       "    .dataframe tbody tr th:only-of-type {\n",
       "        vertical-align: middle;\n",
       "    }\n",
       "\n",
       "    .dataframe tbody tr th {\n",
       "        vertical-align: top;\n",
       "    }\n",
       "\n",
       "    .dataframe thead th {\n",
       "        text-align: right;\n",
       "    }\n",
       "</style>\n",
       "<table border=\"1\" class=\"dataframe\">\n",
       "  <thead>\n",
       "    <tr style=\"text-align: right;\">\n",
       "      <th></th>\n",
       "      <th>work_id</th>\n",
       "      <th>size_id</th>\n",
       "      <th>sale_price</th>\n",
       "      <th>regular_price</th>\n",
       "    </tr>\n",
       "  </thead>\n",
       "  <tbody>\n",
       "    <tr>\n",
       "      <th>0</th>\n",
       "      <td>160228</td>\n",
       "      <td>24</td>\n",
       "      <td>85</td>\n",
       "      <td>85</td>\n",
       "    </tr>\n",
       "    <tr>\n",
       "      <th>1</th>\n",
       "      <td>160228</td>\n",
       "      <td>30</td>\n",
       "      <td>95</td>\n",
       "      <td>95</td>\n",
       "    </tr>\n",
       "    <tr>\n",
       "      <th>2</th>\n",
       "      <td>160236</td>\n",
       "      <td>24</td>\n",
       "      <td>85</td>\n",
       "      <td>85</td>\n",
       "    </tr>\n",
       "    <tr>\n",
       "      <th>3</th>\n",
       "      <td>160236</td>\n",
       "      <td>30</td>\n",
       "      <td>95</td>\n",
       "      <td>95</td>\n",
       "    </tr>\n",
       "    <tr>\n",
       "      <th>4</th>\n",
       "      <td>160244</td>\n",
       "      <td>24</td>\n",
       "      <td>85</td>\n",
       "      <td>85</td>\n",
       "    </tr>\n",
       "  </tbody>\n",
       "</table>\n",
       "</div>"
      ],
      "text/plain": [
       "   work_id size_id  sale_price  regular_price\n",
       "0   160228      24          85             85\n",
       "1   160228      30          95             95\n",
       "2   160236      24          85             85\n",
       "3   160236      30          95             95\n",
       "4   160244      24          85             85"
      ]
     },
     "execution_count": 46,
     "metadata": {},
     "output_type": "execute_result"
    }
   ],
   "source": [
    "product_size_df.head(5)"
   ]
  },
  {
   "cell_type": "code",
   "execution_count": 47,
   "id": "852cee15",
   "metadata": {},
   "outputs": [
    {
     "data": {
      "text/plain": [
       "(110347, 4)"
      ]
     },
     "execution_count": 47,
     "metadata": {},
     "output_type": "execute_result"
    }
   ],
   "source": [
    "# Checking for total number of rows and columns using shape function\n",
    "product_size_df.shape"
   ]
  },
  {
   "cell_type": "code",
   "execution_count": 48,
   "id": "aa07215e",
   "metadata": {},
   "outputs": [
    {
     "data": {
      "text/plain": [
       "Index(['work_id', 'size_id', 'sale_price', 'regular_price'], dtype='object')"
      ]
     },
     "execution_count": 48,
     "metadata": {},
     "output_type": "execute_result"
    }
   ],
   "source": [
    "# Checking for columns names for the product size table \n",
    "product_size_df.columns"
   ]
  },
  {
   "cell_type": "code",
   "execution_count": 49,
   "id": "cbaf6ef4",
   "metadata": {},
   "outputs": [
    {
     "name": "stdout",
     "output_type": "stream",
     "text": [
      "<class 'pandas.core.frame.DataFrame'>\n",
      "RangeIndex: 110347 entries, 0 to 110346\n",
      "Data columns (total 4 columns):\n",
      " #   Column         Non-Null Count   Dtype \n",
      "---  ------         --------------   ----- \n",
      " 0   work_id        110347 non-null  int64 \n",
      " 1   size_id        110347 non-null  object\n",
      " 2   sale_price     110347 non-null  int64 \n",
      " 3   regular_price  110347 non-null  int64 \n",
      "dtypes: int64(3), object(1)\n",
      "memory usage: 3.4+ MB\n"
     ]
    }
   ],
   "source": [
    "# Checking for non-nulls,count,dtype for each of the columns for the product size table \n",
    "product_size_df.info()"
   ]
  },
  {
   "cell_type": "code",
   "execution_count": 50,
   "id": "f8525629",
   "metadata": {},
   "outputs": [
    {
     "data": {
      "text/plain": [
       "work_id          14630\n",
       "size_id            164\n",
       "sale_price         113\n",
       "regular_price      157\n",
       "dtype: int64"
      ]
     },
     "execution_count": 50,
     "metadata": {},
     "output_type": "execute_result"
    }
   ],
   "source": [
    "#Checking for unique values in each of the column \n",
    "product_size_df.nunique()"
   ]
  },
  {
   "cell_type": "code",
   "execution_count": 51,
   "id": "1a55d6be",
   "metadata": {},
   "outputs": [
    {
     "data": {
      "text/plain": [
       "work_id          0\n",
       "size_id          0\n",
       "sale_price       0\n",
       "regular_price    0\n",
       "dtype: int64"
      ]
     },
     "execution_count": 51,
     "metadata": {},
     "output_type": "execute_result"
    }
   ],
   "source": [
    "#missing values check\n",
    "product_size_df.isnull().sum()"
   ]
  },
  {
   "cell_type": "code",
   "execution_count": 52,
   "id": "c9120d5d",
   "metadata": {},
   "outputs": [
    {
     "data": {
      "text/plain": [
       "110190"
      ]
     },
     "execution_count": 52,
     "metadata": {},
     "output_type": "execute_result"
    }
   ],
   "source": [
    "# Checking for duplicates in product size\n",
    "product_size_df.duplicated('work_id').sum()\n",
    "#95717 duplicates in ('work_id') . This is acceptable as a single work id can have many sizes\n",
    "product_size_df.duplicated('size_id').sum()\n",
    "#110183 duplicates in ('size_id'). This is acceptable as same size id is valid for multiple paintings\n",
    "product_size_df.duplicated('sale_price').sum()\n",
    "#110234 duplicates in ('sale_price'). This is acceptable as same sales price is valid for multiple paintings\n",
    "product_size_df.duplicated('regular_price').sum()\n",
    "#110190 duplicates in ('regular_price'). This is acceptable as same regular price is valid for multiple paintings"
   ]
  },
  {
   "cell_type": "code",
   "execution_count": 53,
   "id": "37766d45",
   "metadata": {},
   "outputs": [],
   "source": [
    "product_size_df.to_csv('product_size_clean.csv', encoding='utf-8')"
   ]
  },
  {
   "cell_type": "markdown",
   "id": "b15c288c",
   "metadata": {},
   "source": [
    "#  Data cleaning for subject"
   ]
  },
  {
   "cell_type": "code",
   "execution_count": 54,
   "id": "d4aa558e",
   "metadata": {},
   "outputs": [],
   "source": [
    "subject_df = pd.read_csv('subject.csv') "
   ]
  },
  {
   "cell_type": "code",
   "execution_count": 55,
   "id": "94aef661",
   "metadata": {},
   "outputs": [
    {
     "data": {
      "text/html": [
       "<div>\n",
       "<style scoped>\n",
       "    .dataframe tbody tr th:only-of-type {\n",
       "        vertical-align: middle;\n",
       "    }\n",
       "\n",
       "    .dataframe tbody tr th {\n",
       "        vertical-align: top;\n",
       "    }\n",
       "\n",
       "    .dataframe thead th {\n",
       "        text-align: right;\n",
       "    }\n",
       "</style>\n",
       "<table border=\"1\" class=\"dataframe\">\n",
       "  <thead>\n",
       "    <tr style=\"text-align: right;\">\n",
       "      <th></th>\n",
       "      <th>work_id</th>\n",
       "      <th>subject</th>\n",
       "    </tr>\n",
       "  </thead>\n",
       "  <tbody>\n",
       "    <tr>\n",
       "      <th>0</th>\n",
       "      <td>160228</td>\n",
       "      <td>Still-Life</td>\n",
       "    </tr>\n",
       "    <tr>\n",
       "      <th>1</th>\n",
       "      <td>160236</td>\n",
       "      <td>Still-Life</td>\n",
       "    </tr>\n",
       "    <tr>\n",
       "      <th>2</th>\n",
       "      <td>160244</td>\n",
       "      <td>Still-Life</td>\n",
       "    </tr>\n",
       "    <tr>\n",
       "      <th>3</th>\n",
       "      <td>160252</td>\n",
       "      <td>Still-Life</td>\n",
       "    </tr>\n",
       "    <tr>\n",
       "      <th>4</th>\n",
       "      <td>160260</td>\n",
       "      <td>Still-Life</td>\n",
       "    </tr>\n",
       "  </tbody>\n",
       "</table>\n",
       "</div>"
      ],
      "text/plain": [
       "   work_id     subject\n",
       "0   160228  Still-Life\n",
       "1   160236  Still-Life\n",
       "2   160244  Still-Life\n",
       "3   160252  Still-Life\n",
       "4   160260  Still-Life"
      ]
     },
     "execution_count": 55,
     "metadata": {},
     "output_type": "execute_result"
    }
   ],
   "source": [
    "subject_df.head(5)"
   ]
  },
  {
   "cell_type": "code",
   "execution_count": 56,
   "id": "251ccd15",
   "metadata": {},
   "outputs": [
    {
     "data": {
      "text/plain": [
       "(6771, 2)"
      ]
     },
     "execution_count": 56,
     "metadata": {},
     "output_type": "execute_result"
    }
   ],
   "source": [
    "# Checking for total number of rows and columns using shape function\n",
    "subject_df.shape"
   ]
  },
  {
   "cell_type": "code",
   "execution_count": 57,
   "id": "d569bc8d",
   "metadata": {},
   "outputs": [
    {
     "data": {
      "text/plain": [
       "Index(['work_id', 'subject'], dtype='object')"
      ]
     },
     "execution_count": 57,
     "metadata": {},
     "output_type": "execute_result"
    }
   ],
   "source": [
    "# Checking for columns names for the subject table \n",
    "subject_df.columns"
   ]
  },
  {
   "cell_type": "code",
   "execution_count": 58,
   "id": "fb1ce8ee",
   "metadata": {},
   "outputs": [
    {
     "data": {
      "text/plain": [
       "work_id     int64\n",
       "subject    object\n",
       "dtype: object"
      ]
     },
     "execution_count": 58,
     "metadata": {},
     "output_type": "execute_result"
    }
   ],
   "source": [
    "# Checking for datatyes for each of the columns using dtypes function\n",
    "subject_df.dtypes"
   ]
  },
  {
   "cell_type": "code",
   "execution_count": 59,
   "id": "9a11bf34",
   "metadata": {},
   "outputs": [
    {
     "data": {
      "text/plain": [
       "work_id    0\n",
       "subject    0\n",
       "dtype: int64"
      ]
     },
     "execution_count": 59,
     "metadata": {},
     "output_type": "execute_result"
    }
   ],
   "source": [
    "#missing values check\n",
    "subject_df.isnull().sum()"
   ]
  },
  {
   "cell_type": "code",
   "execution_count": 60,
   "id": "2f8a2e1a",
   "metadata": {},
   "outputs": [
    {
     "data": {
      "text/plain": [
       "59"
      ]
     },
     "execution_count": 60,
     "metadata": {},
     "output_type": "execute_result"
    }
   ],
   "source": [
    "#Checking for duplicates in each of the columns\n",
    "subject_df.duplicated().sum()\n",
    "# There are 59 duplicates in work_id. Keeping the duplicates as it is since a single work id can have multiple subjects."
   ]
  },
  {
   "cell_type": "code",
   "execution_count": 61,
   "id": "8b293f9c",
   "metadata": {},
   "outputs": [
    {
     "data": {
      "text/plain": [
       "work_id    6008\n",
       "subject      29\n",
       "dtype: int64"
      ]
     },
     "execution_count": 61,
     "metadata": {},
     "output_type": "execute_result"
    }
   ],
   "source": [
    "#Checking for unique values in each of the column \n",
    "subject_df.nunique()"
   ]
  },
  {
   "cell_type": "code",
   "execution_count": 62,
   "id": "89936776",
   "metadata": {},
   "outputs": [],
   "source": [
    "subject_df.to_csv('subject_clean.csv', encoding='utf-8')"
   ]
  },
  {
   "cell_type": "markdown",
   "id": "2f0e498a",
   "metadata": {},
   "source": [
    "#  Data cleaning for canvas_size"
   ]
  },
  {
   "cell_type": "code",
   "execution_count": 63,
   "id": "100d0efa",
   "metadata": {},
   "outputs": [],
   "source": [
    "canvas_size_df = pd.read_csv('canvas_size.csv') "
   ]
  },
  {
   "cell_type": "code",
   "execution_count": 64,
   "id": "63b85046",
   "metadata": {},
   "outputs": [
    {
     "data": {
      "text/html": [
       "<div>\n",
       "<style scoped>\n",
       "    .dataframe tbody tr th:only-of-type {\n",
       "        vertical-align: middle;\n",
       "    }\n",
       "\n",
       "    .dataframe tbody tr th {\n",
       "        vertical-align: top;\n",
       "    }\n",
       "\n",
       "    .dataframe thead th {\n",
       "        text-align: right;\n",
       "    }\n",
       "</style>\n",
       "<table border=\"1\" class=\"dataframe\">\n",
       "  <thead>\n",
       "    <tr style=\"text-align: right;\">\n",
       "      <th></th>\n",
       "      <th>size_id</th>\n",
       "      <th>width</th>\n",
       "      <th>height</th>\n",
       "      <th>label</th>\n",
       "    </tr>\n",
       "  </thead>\n",
       "  <tbody>\n",
       "    <tr>\n",
       "      <th>0</th>\n",
       "      <td>20</td>\n",
       "      <td>20</td>\n",
       "      <td>NaN</td>\n",
       "      <td>20\" Long Edge</td>\n",
       "    </tr>\n",
       "    <tr>\n",
       "      <th>1</th>\n",
       "      <td>24</td>\n",
       "      <td>24</td>\n",
       "      <td>NaN</td>\n",
       "      <td>24\" Long Edge</td>\n",
       "    </tr>\n",
       "    <tr>\n",
       "      <th>2</th>\n",
       "      <td>30</td>\n",
       "      <td>30</td>\n",
       "      <td>NaN</td>\n",
       "      <td>30\" Long Edge</td>\n",
       "    </tr>\n",
       "    <tr>\n",
       "      <th>3</th>\n",
       "      <td>36</td>\n",
       "      <td>36</td>\n",
       "      <td>NaN</td>\n",
       "      <td>36\" Long Edge</td>\n",
       "    </tr>\n",
       "    <tr>\n",
       "      <th>4</th>\n",
       "      <td>40</td>\n",
       "      <td>40</td>\n",
       "      <td>NaN</td>\n",
       "      <td>40\" Long Edge</td>\n",
       "    </tr>\n",
       "    <tr>\n",
       "      <th>5</th>\n",
       "      <td>48</td>\n",
       "      <td>48</td>\n",
       "      <td>NaN</td>\n",
       "      <td>48\" Long Edge</td>\n",
       "    </tr>\n",
       "    <tr>\n",
       "      <th>6</th>\n",
       "      <td>56</td>\n",
       "      <td>56</td>\n",
       "      <td>NaN</td>\n",
       "      <td>56\" Long Edge</td>\n",
       "    </tr>\n",
       "    <tr>\n",
       "      <th>7</th>\n",
       "      <td>1522</td>\n",
       "      <td>15</td>\n",
       "      <td>22.0</td>\n",
       "      <td>15\" x 22\"(38 cm x 56 cm)</td>\n",
       "    </tr>\n",
       "    <tr>\n",
       "      <th>8</th>\n",
       "      <td>1618</td>\n",
       "      <td>16</td>\n",
       "      <td>18.0</td>\n",
       "      <td>16\" x 18\"(41 cm x 46 cm)</td>\n",
       "    </tr>\n",
       "    <tr>\n",
       "      <th>9</th>\n",
       "      <td>1620</td>\n",
       "      <td>16</td>\n",
       "      <td>20.0</td>\n",
       "      <td>16\" x 20\"(41 cm x 51 cm)</td>\n",
       "    </tr>\n",
       "  </tbody>\n",
       "</table>\n",
       "</div>"
      ],
      "text/plain": [
       "   size_id  width  height                     label\n",
       "0       20     20     NaN             20\" Long Edge\n",
       "1       24     24     NaN             24\" Long Edge\n",
       "2       30     30     NaN             30\" Long Edge\n",
       "3       36     36     NaN             36\" Long Edge\n",
       "4       40     40     NaN             40\" Long Edge\n",
       "5       48     48     NaN             48\" Long Edge\n",
       "6       56     56     NaN             56\" Long Edge\n",
       "7     1522     15    22.0  15\" x 22\"(38 cm x 56 cm)\n",
       "8     1618     16    18.0  16\" x 18\"(41 cm x 46 cm)\n",
       "9     1620     16    20.0  16\" x 20\"(41 cm x 51 cm)"
      ]
     },
     "execution_count": 64,
     "metadata": {},
     "output_type": "execute_result"
    }
   ],
   "source": [
    "canvas_size_df.head(10)"
   ]
  },
  {
   "cell_type": "code",
   "execution_count": 65,
   "id": "e3010517",
   "metadata": {},
   "outputs": [
    {
     "data": {
      "text/plain": [
       "(200, 4)"
      ]
     },
     "execution_count": 65,
     "metadata": {},
     "output_type": "execute_result"
    }
   ],
   "source": [
    "# Checking for total number of rows and columns using shape function\n",
    "canvas_size_df.shape"
   ]
  },
  {
   "cell_type": "code",
   "execution_count": 66,
   "id": "fa4a4f45",
   "metadata": {},
   "outputs": [
    {
     "data": {
      "text/plain": [
       "Index(['size_id', 'width', 'height', 'label'], dtype='object')"
      ]
     },
     "execution_count": 66,
     "metadata": {},
     "output_type": "execute_result"
    }
   ],
   "source": [
    "# Checking for columns names for the subject table \n",
    "canvas_size_df.columns"
   ]
  },
  {
   "cell_type": "code",
   "execution_count": 67,
   "id": "c2d15c29",
   "metadata": {},
   "outputs": [
    {
     "data": {
      "text/plain": [
       "size_id      int64\n",
       "width        int64\n",
       "height     float64\n",
       "label       object\n",
       "dtype: object"
      ]
     },
     "execution_count": 67,
     "metadata": {},
     "output_type": "execute_result"
    }
   ],
   "source": [
    "# Checking for datatyes for each of the columns using dtypes function\n",
    "canvas_size_df.dtypes"
   ]
  },
  {
   "cell_type": "code",
   "execution_count": 68,
   "id": "002bbb9e",
   "metadata": {},
   "outputs": [
    {
     "data": {
      "text/plain": [
       "size_id    0\n",
       "width      0\n",
       "height     7\n",
       "label      0\n",
       "dtype: int64"
      ]
     },
     "execution_count": 68,
     "metadata": {},
     "output_type": "execute_result"
    }
   ],
   "source": [
    "#missing values check\n",
    "canvas_size_df.isnull().sum()"
   ]
  },
  {
   "cell_type": "code",
   "execution_count": 69,
   "id": "aefb0811",
   "metadata": {},
   "outputs": [
    {
     "data": {
      "text/html": [
       "<div>\n",
       "<style scoped>\n",
       "    .dataframe tbody tr th:only-of-type {\n",
       "        vertical-align: middle;\n",
       "    }\n",
       "\n",
       "    .dataframe tbody tr th {\n",
       "        vertical-align: top;\n",
       "    }\n",
       "\n",
       "    .dataframe thead th {\n",
       "        text-align: right;\n",
       "    }\n",
       "</style>\n",
       "<table border=\"1\" class=\"dataframe\">\n",
       "  <thead>\n",
       "    <tr style=\"text-align: right;\">\n",
       "      <th></th>\n",
       "      <th>size_id</th>\n",
       "      <th>width</th>\n",
       "      <th>height</th>\n",
       "      <th>label</th>\n",
       "    </tr>\n",
       "  </thead>\n",
       "  <tbody>\n",
       "    <tr>\n",
       "      <th>195</th>\n",
       "      <td>7963</td>\n",
       "      <td>79</td>\n",
       "      <td>63.0</td>\n",
       "      <td>79\" x 63\"(201 cm x 160 cm)</td>\n",
       "    </tr>\n",
       "    <tr>\n",
       "      <th>196</th>\n",
       "      <td>8040</td>\n",
       "      <td>80</td>\n",
       "      <td>40.0</td>\n",
       "      <td>80\" x 40\"(203 cm x 102 cm)</td>\n",
       "    </tr>\n",
       "    <tr>\n",
       "      <th>197</th>\n",
       "      <td>8051</td>\n",
       "      <td>80</td>\n",
       "      <td>51.0</td>\n",
       "      <td>80\" x 51\"(203 cm x 130 cm)</td>\n",
       "    </tr>\n",
       "    <tr>\n",
       "      <th>198</th>\n",
       "      <td>8959</td>\n",
       "      <td>89</td>\n",
       "      <td>59.0</td>\n",
       "      <td>89\" x 59\"(226 cm x 150 cm)</td>\n",
       "    </tr>\n",
       "    <tr>\n",
       "      <th>199</th>\n",
       "      <td>9648</td>\n",
       "      <td>96</td>\n",
       "      <td>48.0</td>\n",
       "      <td>96\" x 48\"(244 cm x 122 cm)</td>\n",
       "    </tr>\n",
       "  </tbody>\n",
       "</table>\n",
       "</div>"
      ],
      "text/plain": [
       "     size_id  width  height                       label\n",
       "195     7963     79    63.0  79\" x 63\"(201 cm x 160 cm)\n",
       "196     8040     80    40.0  80\" x 40\"(203 cm x 102 cm)\n",
       "197     8051     80    51.0  80\" x 51\"(203 cm x 130 cm)\n",
       "198     8959     89    59.0  89\" x 59\"(226 cm x 150 cm)\n",
       "199     9648     96    48.0  96\" x 48\"(244 cm x 122 cm)"
      ]
     },
     "execution_count": 69,
     "metadata": {},
     "output_type": "execute_result"
    }
   ],
   "source": [
    "# The canvas_size.csv has a column 'size_id' which is supposed to be a unique 4 digit number\n",
    "# On analysis, it has been observed that the first 7 rows do not have a correct size_id and have missing height. \n",
    "# This can be a manual error so we are deleting those rows as we cannot create a unique size_id on our own \n",
    "canvas_size_df.tail(5)"
   ]
  },
  {
   "cell_type": "code",
   "execution_count": 70,
   "id": "74def88a",
   "metadata": {},
   "outputs": [
    {
     "data": {
      "text/html": [
       "<div>\n",
       "<style scoped>\n",
       "    .dataframe tbody tr th:only-of-type {\n",
       "        vertical-align: middle;\n",
       "    }\n",
       "\n",
       "    .dataframe tbody tr th {\n",
       "        vertical-align: top;\n",
       "    }\n",
       "\n",
       "    .dataframe thead th {\n",
       "        text-align: right;\n",
       "    }\n",
       "</style>\n",
       "<table border=\"1\" class=\"dataframe\">\n",
       "  <thead>\n",
       "    <tr style=\"text-align: right;\">\n",
       "      <th></th>\n",
       "      <th>size_id</th>\n",
       "      <th>width</th>\n",
       "      <th>height</th>\n",
       "      <th>label</th>\n",
       "    </tr>\n",
       "  </thead>\n",
       "  <tbody>\n",
       "    <tr>\n",
       "      <th>0</th>\n",
       "      <td>20</td>\n",
       "      <td>20</td>\n",
       "      <td>NaN</td>\n",
       "      <td>20\" Long Edge</td>\n",
       "    </tr>\n",
       "    <tr>\n",
       "      <th>1</th>\n",
       "      <td>24</td>\n",
       "      <td>24</td>\n",
       "      <td>NaN</td>\n",
       "      <td>24\" Long Edge</td>\n",
       "    </tr>\n",
       "    <tr>\n",
       "      <th>2</th>\n",
       "      <td>30</td>\n",
       "      <td>30</td>\n",
       "      <td>NaN</td>\n",
       "      <td>30\" Long Edge</td>\n",
       "    </tr>\n",
       "    <tr>\n",
       "      <th>3</th>\n",
       "      <td>36</td>\n",
       "      <td>36</td>\n",
       "      <td>NaN</td>\n",
       "      <td>36\" Long Edge</td>\n",
       "    </tr>\n",
       "    <tr>\n",
       "      <th>4</th>\n",
       "      <td>40</td>\n",
       "      <td>40</td>\n",
       "      <td>NaN</td>\n",
       "      <td>40\" Long Edge</td>\n",
       "    </tr>\n",
       "    <tr>\n",
       "      <th>5</th>\n",
       "      <td>48</td>\n",
       "      <td>48</td>\n",
       "      <td>NaN</td>\n",
       "      <td>48\" Long Edge</td>\n",
       "    </tr>\n",
       "    <tr>\n",
       "      <th>6</th>\n",
       "      <td>56</td>\n",
       "      <td>56</td>\n",
       "      <td>NaN</td>\n",
       "      <td>56\" Long Edge</td>\n",
       "    </tr>\n",
       "    <tr>\n",
       "      <th>7</th>\n",
       "      <td>1522</td>\n",
       "      <td>15</td>\n",
       "      <td>22.0</td>\n",
       "      <td>15\" x 22\"(38 cm x 56 cm)</td>\n",
       "    </tr>\n",
       "    <tr>\n",
       "      <th>8</th>\n",
       "      <td>1618</td>\n",
       "      <td>16</td>\n",
       "      <td>18.0</td>\n",
       "      <td>16\" x 18\"(41 cm x 46 cm)</td>\n",
       "    </tr>\n",
       "    <tr>\n",
       "      <th>9</th>\n",
       "      <td>1620</td>\n",
       "      <td>16</td>\n",
       "      <td>20.0</td>\n",
       "      <td>16\" x 20\"(41 cm x 51 cm)</td>\n",
       "    </tr>\n",
       "  </tbody>\n",
       "</table>\n",
       "</div>"
      ],
      "text/plain": [
       "   size_id  width  height                     label\n",
       "0       20     20     NaN             20\" Long Edge\n",
       "1       24     24     NaN             24\" Long Edge\n",
       "2       30     30     NaN             30\" Long Edge\n",
       "3       36     36     NaN             36\" Long Edge\n",
       "4       40     40     NaN             40\" Long Edge\n",
       "5       48     48     NaN             48\" Long Edge\n",
       "6       56     56     NaN             56\" Long Edge\n",
       "7     1522     15    22.0  15\" x 22\"(38 cm x 56 cm)\n",
       "8     1618     16    18.0  16\" x 18\"(41 cm x 46 cm)\n",
       "9     1620     16    20.0  16\" x 20\"(41 cm x 51 cm)"
      ]
     },
     "execution_count": 70,
     "metadata": {},
     "output_type": "execute_result"
    }
   ],
   "source": [
    "# the first 7 rows do not have a correct size_id and is missing height\n",
    "canvas_size_df.head(10)"
   ]
  },
  {
   "cell_type": "code",
   "execution_count": 71,
   "id": "2077d633",
   "metadata": {},
   "outputs": [],
   "source": [
    "# delete the rows with wrong data\n",
    "\n",
    "canvas_size_df.dropna(subset=['height'], inplace=True)"
   ]
  },
  {
   "cell_type": "code",
   "execution_count": 72,
   "id": "ed650812",
   "metadata": {},
   "outputs": [
    {
     "data": {
      "text/html": [
       "<div>\n",
       "<style scoped>\n",
       "    .dataframe tbody tr th:only-of-type {\n",
       "        vertical-align: middle;\n",
       "    }\n",
       "\n",
       "    .dataframe tbody tr th {\n",
       "        vertical-align: top;\n",
       "    }\n",
       "\n",
       "    .dataframe thead th {\n",
       "        text-align: right;\n",
       "    }\n",
       "</style>\n",
       "<table border=\"1\" class=\"dataframe\">\n",
       "  <thead>\n",
       "    <tr style=\"text-align: right;\">\n",
       "      <th></th>\n",
       "      <th>size_id</th>\n",
       "      <th>width</th>\n",
       "      <th>height</th>\n",
       "      <th>label</th>\n",
       "    </tr>\n",
       "  </thead>\n",
       "  <tbody>\n",
       "    <tr>\n",
       "      <th>7</th>\n",
       "      <td>1522</td>\n",
       "      <td>15</td>\n",
       "      <td>22.0</td>\n",
       "      <td>15\" x 22\"(38 cm x 56 cm)</td>\n",
       "    </tr>\n",
       "    <tr>\n",
       "      <th>8</th>\n",
       "      <td>1618</td>\n",
       "      <td>16</td>\n",
       "      <td>18.0</td>\n",
       "      <td>16\" x 18\"(41 cm x 46 cm)</td>\n",
       "    </tr>\n",
       "    <tr>\n",
       "      <th>9</th>\n",
       "      <td>1620</td>\n",
       "      <td>16</td>\n",
       "      <td>20.0</td>\n",
       "      <td>16\" x 20\"(41 cm x 51 cm)</td>\n",
       "    </tr>\n",
       "    <tr>\n",
       "      <th>10</th>\n",
       "      <td>1623</td>\n",
       "      <td>16</td>\n",
       "      <td>23.0</td>\n",
       "      <td>16\" x 23\"(41 cm x 58 cm)</td>\n",
       "    </tr>\n",
       "    <tr>\n",
       "      <th>11</th>\n",
       "      <td>1624</td>\n",
       "      <td>16</td>\n",
       "      <td>24.0</td>\n",
       "      <td>16\" x 24\"(41 cm x 61 cm)</td>\n",
       "    </tr>\n",
       "    <tr>\n",
       "      <th>12</th>\n",
       "      <td>1632</td>\n",
       "      <td>16</td>\n",
       "      <td>32.0</td>\n",
       "      <td>16\" x 32\"(41 cm x 81 cm)</td>\n",
       "    </tr>\n",
       "    <tr>\n",
       "      <th>13</th>\n",
       "      <td>1826</td>\n",
       "      <td>18</td>\n",
       "      <td>26.0</td>\n",
       "      <td>18\" x 26\"(46 cm x 66 cm)</td>\n",
       "    </tr>\n",
       "    <tr>\n",
       "      <th>14</th>\n",
       "      <td>1926</td>\n",
       "      <td>19</td>\n",
       "      <td>26.0</td>\n",
       "      <td>19\" x 26\"(48 cm x 66 cm)</td>\n",
       "    </tr>\n",
       "    <tr>\n",
       "      <th>15</th>\n",
       "      <td>1929</td>\n",
       "      <td>19</td>\n",
       "      <td>29.0</td>\n",
       "      <td>19\" x 29\"(48 cm x 74 cm)</td>\n",
       "    </tr>\n",
       "    <tr>\n",
       "      <th>16</th>\n",
       "      <td>2016</td>\n",
       "      <td>20</td>\n",
       "      <td>16.0</td>\n",
       "      <td>20\" x 16\"(51 cm x 41 cm)</td>\n",
       "    </tr>\n",
       "  </tbody>\n",
       "</table>\n",
       "</div>"
      ],
      "text/plain": [
       "    size_id  width  height                     label\n",
       "7      1522     15    22.0  15\" x 22\"(38 cm x 56 cm)\n",
       "8      1618     16    18.0  16\" x 18\"(41 cm x 46 cm)\n",
       "9      1620     16    20.0  16\" x 20\"(41 cm x 51 cm)\n",
       "10     1623     16    23.0  16\" x 23\"(41 cm x 58 cm)\n",
       "11     1624     16    24.0  16\" x 24\"(41 cm x 61 cm)\n",
       "12     1632     16    32.0  16\" x 32\"(41 cm x 81 cm)\n",
       "13     1826     18    26.0  18\" x 26\"(46 cm x 66 cm)\n",
       "14     1926     19    26.0  19\" x 26\"(48 cm x 66 cm)\n",
       "15     1929     19    29.0  19\" x 29\"(48 cm x 74 cm)\n",
       "16     2016     20    16.0  20\" x 16\"(51 cm x 41 cm)"
      ]
     },
     "execution_count": 72,
     "metadata": {},
     "output_type": "execute_result"
    }
   ],
   "source": [
    "# verify the data has been removed\n",
    "canvas_size_df.head(10)"
   ]
  },
  {
   "cell_type": "code",
   "execution_count": 73,
   "id": "716302ba",
   "metadata": {},
   "outputs": [
    {
     "data": {
      "text/plain": [
       "(193, 4)"
      ]
     },
     "execution_count": 73,
     "metadata": {},
     "output_type": "execute_result"
    }
   ],
   "source": [
    "# previously the row count was 200. after the cleaning it should be 193\n",
    "canvas_size_df.shape"
   ]
  },
  {
   "cell_type": "code",
   "execution_count": 74,
   "id": "d41ab83e",
   "metadata": {},
   "outputs": [],
   "source": [
    "canvas_size_df = canvas_size_df.reset_index(drop=True)"
   ]
  },
  {
   "cell_type": "code",
   "execution_count": 75,
   "id": "05f61884",
   "metadata": {},
   "outputs": [
    {
     "data": {
      "text/html": [
       "<div>\n",
       "<style scoped>\n",
       "    .dataframe tbody tr th:only-of-type {\n",
       "        vertical-align: middle;\n",
       "    }\n",
       "\n",
       "    .dataframe tbody tr th {\n",
       "        vertical-align: top;\n",
       "    }\n",
       "\n",
       "    .dataframe thead th {\n",
       "        text-align: right;\n",
       "    }\n",
       "</style>\n",
       "<table border=\"1\" class=\"dataframe\">\n",
       "  <thead>\n",
       "    <tr style=\"text-align: right;\">\n",
       "      <th></th>\n",
       "      <th>size_id</th>\n",
       "      <th>width</th>\n",
       "      <th>height</th>\n",
       "      <th>label</th>\n",
       "    </tr>\n",
       "  </thead>\n",
       "  <tbody>\n",
       "    <tr>\n",
       "      <th>0</th>\n",
       "      <td>1522</td>\n",
       "      <td>15</td>\n",
       "      <td>22.0</td>\n",
       "      <td>15\" x 22\"(38 cm x 56 cm)</td>\n",
       "    </tr>\n",
       "    <tr>\n",
       "      <th>1</th>\n",
       "      <td>1618</td>\n",
       "      <td>16</td>\n",
       "      <td>18.0</td>\n",
       "      <td>16\" x 18\"(41 cm x 46 cm)</td>\n",
       "    </tr>\n",
       "    <tr>\n",
       "      <th>2</th>\n",
       "      <td>1620</td>\n",
       "      <td>16</td>\n",
       "      <td>20.0</td>\n",
       "      <td>16\" x 20\"(41 cm x 51 cm)</td>\n",
       "    </tr>\n",
       "    <tr>\n",
       "      <th>3</th>\n",
       "      <td>1623</td>\n",
       "      <td>16</td>\n",
       "      <td>23.0</td>\n",
       "      <td>16\" x 23\"(41 cm x 58 cm)</td>\n",
       "    </tr>\n",
       "    <tr>\n",
       "      <th>4</th>\n",
       "      <td>1624</td>\n",
       "      <td>16</td>\n",
       "      <td>24.0</td>\n",
       "      <td>16\" x 24\"(41 cm x 61 cm)</td>\n",
       "    </tr>\n",
       "    <tr>\n",
       "      <th>5</th>\n",
       "      <td>1632</td>\n",
       "      <td>16</td>\n",
       "      <td>32.0</td>\n",
       "      <td>16\" x 32\"(41 cm x 81 cm)</td>\n",
       "    </tr>\n",
       "    <tr>\n",
       "      <th>6</th>\n",
       "      <td>1826</td>\n",
       "      <td>18</td>\n",
       "      <td>26.0</td>\n",
       "      <td>18\" x 26\"(46 cm x 66 cm)</td>\n",
       "    </tr>\n",
       "    <tr>\n",
       "      <th>7</th>\n",
       "      <td>1926</td>\n",
       "      <td>19</td>\n",
       "      <td>26.0</td>\n",
       "      <td>19\" x 26\"(48 cm x 66 cm)</td>\n",
       "    </tr>\n",
       "    <tr>\n",
       "      <th>8</th>\n",
       "      <td>1929</td>\n",
       "      <td>19</td>\n",
       "      <td>29.0</td>\n",
       "      <td>19\" x 29\"(48 cm x 74 cm)</td>\n",
       "    </tr>\n",
       "    <tr>\n",
       "      <th>9</th>\n",
       "      <td>2016</td>\n",
       "      <td>20</td>\n",
       "      <td>16.0</td>\n",
       "      <td>20\" x 16\"(51 cm x 41 cm)</td>\n",
       "    </tr>\n",
       "  </tbody>\n",
       "</table>\n",
       "</div>"
      ],
      "text/plain": [
       "   size_id  width  height                     label\n",
       "0     1522     15    22.0  15\" x 22\"(38 cm x 56 cm)\n",
       "1     1618     16    18.0  16\" x 18\"(41 cm x 46 cm)\n",
       "2     1620     16    20.0  16\" x 20\"(41 cm x 51 cm)\n",
       "3     1623     16    23.0  16\" x 23\"(41 cm x 58 cm)\n",
       "4     1624     16    24.0  16\" x 24\"(41 cm x 61 cm)\n",
       "5     1632     16    32.0  16\" x 32\"(41 cm x 81 cm)\n",
       "6     1826     18    26.0  18\" x 26\"(46 cm x 66 cm)\n",
       "7     1926     19    26.0  19\" x 26\"(48 cm x 66 cm)\n",
       "8     1929     19    29.0  19\" x 29\"(48 cm x 74 cm)\n",
       "9     2016     20    16.0  20\" x 16\"(51 cm x 41 cm)"
      ]
     },
     "execution_count": 75,
     "metadata": {},
     "output_type": "execute_result"
    }
   ],
   "source": [
    "canvas_size_df.head(10)"
   ]
  },
  {
   "cell_type": "code",
   "execution_count": 76,
   "id": "eb78ee76",
   "metadata": {},
   "outputs": [
    {
     "data": {
      "text/plain": [
       "0"
      ]
     },
     "execution_count": 76,
     "metadata": {},
     "output_type": "execute_result"
    }
   ],
   "source": [
    "# Checking for duplicates for canvas size\n",
    "canvas_size_df.duplicated('size_id').sum()\n",
    "# 0 duplicates for size_id\n",
    "canvas_size_df.duplicated('width').sum()\n",
    "# 141 duplicates width. Many paintings can have the same width so this duplicate is acceptable \n",
    "canvas_size_df.duplicated('height').sum()\n",
    "#143 duplicates height. Many paintings can have the same height so this duplicate is acceptable\n",
    "canvas_size_df.duplicated('label').sum()\n",
    "# 0 duplicates for label"
   ]
  },
  {
   "cell_type": "code",
   "execution_count": 77,
   "id": "7c947fc9",
   "metadata": {},
   "outputs": [],
   "source": [
    "canvas_size_df.to_csv('canvas_size_clean.csv', encoding='utf-8')"
   ]
  },
  {
   "cell_type": "markdown",
   "id": "8ec364dd",
   "metadata": {},
   "source": [
    "# Data cleaning for musesum "
   ]
  },
  {
   "cell_type": "code",
   "execution_count": 78,
   "id": "08b1a5d6",
   "metadata": {},
   "outputs": [],
   "source": [
    "museum_df = pd.read_csv('museum.csv') "
   ]
  },
  {
   "cell_type": "code",
   "execution_count": 79,
   "id": "2e101fec",
   "metadata": {},
   "outputs": [
    {
     "data": {
      "text/html": [
       "<div>\n",
       "<style scoped>\n",
       "    .dataframe tbody tr th:only-of-type {\n",
       "        vertical-align: middle;\n",
       "    }\n",
       "\n",
       "    .dataframe tbody tr th {\n",
       "        vertical-align: top;\n",
       "    }\n",
       "\n",
       "    .dataframe thead th {\n",
       "        text-align: right;\n",
       "    }\n",
       "</style>\n",
       "<table border=\"1\" class=\"dataframe\">\n",
       "  <thead>\n",
       "    <tr style=\"text-align: right;\">\n",
       "      <th></th>\n",
       "      <th>museum_id</th>\n",
       "      <th>name</th>\n",
       "      <th>address</th>\n",
       "      <th>city</th>\n",
       "      <th>state</th>\n",
       "      <th>postal</th>\n",
       "      <th>country</th>\n",
       "      <th>phone</th>\n",
       "      <th>url</th>\n",
       "    </tr>\n",
       "  </thead>\n",
       "  <tbody>\n",
       "    <tr>\n",
       "      <th>0</th>\n",
       "      <td>30</td>\n",
       "      <td>The Museum of Modern Art</td>\n",
       "      <td>11 W 53rd St</td>\n",
       "      <td>New York</td>\n",
       "      <td>NY</td>\n",
       "      <td>10019</td>\n",
       "      <td>USA</td>\n",
       "      <td>+1 212 708-9400</td>\n",
       "      <td>https://www.moma.org/</td>\n",
       "    </tr>\n",
       "    <tr>\n",
       "      <th>1</th>\n",
       "      <td>31</td>\n",
       "      <td>Pushkin State Museum of Fine Arts</td>\n",
       "      <td>12 Ulitsa Volkhonka</td>\n",
       "      <td>Moscow</td>\n",
       "      <td>NaN</td>\n",
       "      <td>119019</td>\n",
       "      <td>Russia</td>\n",
       "      <td>+7 495 697-95-78</td>\n",
       "      <td>https://pushkinmuseum.art/</td>\n",
       "    </tr>\n",
       "    <tr>\n",
       "      <th>2</th>\n",
       "      <td>32</td>\n",
       "      <td>National Gallery of Victoria</td>\n",
       "      <td>180 St Kilda Rd</td>\n",
       "      <td>Melbourne</td>\n",
       "      <td>Victoria</td>\n",
       "      <td>3004</td>\n",
       "      <td>Australia</td>\n",
       "      <td>+61 (0)3 8620 2222</td>\n",
       "      <td>https://www.ngv.vic.gov.au/</td>\n",
       "    </tr>\n",
       "    <tr>\n",
       "      <th>3</th>\n",
       "      <td>33</td>\n",
       "      <td>São Paulo Museum of Art</td>\n",
       "      <td>Av. Paulista, 1578 - Bela Vista</td>\n",
       "      <td>São Paulo</td>\n",
       "      <td>NaN</td>\n",
       "      <td>01310-200</td>\n",
       "      <td>Brazil</td>\n",
       "      <td>+55 11 3149-5959</td>\n",
       "      <td>https://masp.org.br/</td>\n",
       "    </tr>\n",
       "    <tr>\n",
       "      <th>4</th>\n",
       "      <td>34</td>\n",
       "      <td>The State Hermitage Museum</td>\n",
       "      <td>Palace Square</td>\n",
       "      <td>2</td>\n",
       "      <td>Sankt-Peterburg</td>\n",
       "      <td>190000</td>\n",
       "      <td>Russia</td>\n",
       "      <td>7 812 710-90-79</td>\n",
       "      <td>https://www.hermitagemuseum.org/wps/portal/her...</td>\n",
       "    </tr>\n",
       "  </tbody>\n",
       "</table>\n",
       "</div>"
      ],
      "text/plain": [
       "   museum_id                               name  \\\n",
       "0         30           The Museum of Modern Art   \n",
       "1         31  Pushkin State Museum of Fine Arts   \n",
       "2         32       National Gallery of Victoria   \n",
       "3         33            São Paulo Museum of Art   \n",
       "4         34         The State Hermitage Museum   \n",
       "\n",
       "                           address       city            state     postal  \\\n",
       "0                     11 W 53rd St   New York               NY      10019   \n",
       "1              12 Ulitsa Volkhonka     Moscow              NaN     119019   \n",
       "2                  180 St Kilda Rd  Melbourne         Victoria       3004   \n",
       "3  Av. Paulista, 1578 - Bela Vista  São Paulo              NaN  01310-200   \n",
       "4                    Palace Square          2  Sankt-Peterburg     190000   \n",
       "\n",
       "     country               phone  \\\n",
       "0        USA     +1 212 708-9400   \n",
       "1     Russia    +7 495 697-95-78   \n",
       "2  Australia  +61 (0)3 8620 2222   \n",
       "3     Brazil    +55 11 3149-5959   \n",
       "4     Russia     7 812 710-90-79   \n",
       "\n",
       "                                                 url  \n",
       "0                              https://www.moma.org/  \n",
       "1                         https://pushkinmuseum.art/  \n",
       "2                        https://www.ngv.vic.gov.au/  \n",
       "3                               https://masp.org.br/  \n",
       "4  https://www.hermitagemuseum.org/wps/portal/her...  "
      ]
     },
     "execution_count": 79,
     "metadata": {},
     "output_type": "execute_result"
    }
   ],
   "source": [
    "museum_df.head(5)"
   ]
  },
  {
   "cell_type": "code",
   "execution_count": 80,
   "id": "a4dae252",
   "metadata": {},
   "outputs": [
    {
     "data": {
      "text/plain": [
       "(57, 9)"
      ]
     },
     "execution_count": 80,
     "metadata": {},
     "output_type": "execute_result"
    }
   ],
   "source": [
    "# Checking for total number of rows and columns using shape function\n",
    "museum_df.shape"
   ]
  },
  {
   "cell_type": "code",
   "execution_count": 81,
   "id": "79021b82",
   "metadata": {},
   "outputs": [
    {
     "data": {
      "text/plain": [
       "Index(['museum_id', 'name', 'address', 'city', 'state', 'postal', 'country',\n",
       "       'phone', 'url'],\n",
       "      dtype='object')"
      ]
     },
     "execution_count": 81,
     "metadata": {},
     "output_type": "execute_result"
    }
   ],
   "source": [
    "# Checking for columns names for the museum table \n",
    "museum_df.columns"
   ]
  },
  {
   "cell_type": "code",
   "execution_count": 82,
   "id": "2f4101b8",
   "metadata": {},
   "outputs": [
    {
     "data": {
      "text/plain": [
       "0"
      ]
     },
     "execution_count": 82,
     "metadata": {},
     "output_type": "execute_result"
    }
   ],
   "source": [
    "#Checking missing values for each of the column used in musesum table\n",
    "museum_df['museum_id'].isnull().sum()\n",
    "museum_df['name'].isnull().sum()\n",
    "museum_df['address'].isnull().sum()\n",
    "museum_df['city'].isnull().sum()\n",
    "museum_df['state'].isnull().sum()\n",
    "museum_df['postal'].isnull().sum()\n",
    "museum_df['country'].isnull().sum()\n",
    "museum_df['phone'].isnull().sum()\n",
    "museum_df['url'].isnull().sum()\n",
    "\n",
    "# Columns such as state and postal contains missing values and outliers. It is ignored as it is not used for the analysis. \n",
    "# Country column does not contains nulls and it is used for the analysis."
   ]
  },
  {
   "cell_type": "code",
   "execution_count": 83,
   "id": "9db130f3",
   "metadata": {},
   "outputs": [
    {
     "data": {
      "text/plain": [
       "0        New York\n",
       "1          Moscow\n",
       "2       Melbourne\n",
       "3       São Paulo\n",
       "4               2\n",
       "5        New York\n",
       "6           45128\n",
       "7           38000\n",
       "8           29000\n",
       "9     Kansas City\n",
       "10          75001\n",
       "11         London\n",
       "Name: city, dtype: object"
      ]
     },
     "execution_count": 83,
     "metadata": {},
     "output_type": "execute_result"
    }
   ],
   "source": [
    "# Checking the city column from the musesum table\n",
    "museum_df['city'].head(12)\n",
    "# Since the city column contains outliers,the city column is ignored. We are going to use country column for the analysis."
   ]
  },
  {
   "cell_type": "code",
   "execution_count": 84,
   "id": "c903bad7",
   "metadata": {},
   "outputs": [
    {
     "data": {
      "text/plain": [
       "0        +1 212 708-9400\n",
       "1       +7 495 697-95-78\n",
       "2     +61 (0)3 8620 2222\n",
       "3       +55 11 3149-5959\n",
       "4        7 812 710-90-79\n",
       "5        +1 212 535-7710\n",
       "6         49 201 8845000\n",
       "7       33 4 76 63 44 44\n",
       "8       33 2 98 95 45 20\n",
       "9        +1 816 751-1278\n",
       "10      33 1 40 20 50 50\n",
       "11       44 20 8858 4422\n",
       "12          617-267-9300\n",
       "13        31 20 674 7000\n",
       "14        972 2-670-8811\n",
       "Name: phone, dtype: object"
      ]
     },
     "execution_count": 84,
     "metadata": {},
     "output_type": "execute_result"
    }
   ],
   "source": [
    "# Checking the phone column from the musesum table\n",
    "museum_df['phone'].head(15)\n",
    "# There are formating errors in phone number columns. The column is ignored as it is not going to be utilized for the analysis."
   ]
  },
  {
   "cell_type": "code",
   "execution_count": 85,
   "id": "da05311b",
   "metadata": {},
   "outputs": [
    {
     "data": {
      "text/plain": [
       "0"
      ]
     },
     "execution_count": 85,
     "metadata": {},
     "output_type": "execute_result"
    }
   ],
   "source": [
    "# Checking for duplicates for musesum table\n",
    "museum_df.duplicated('museum_id').sum()\n",
    "museum_df.duplicated('name').sum()\n",
    "museum_df.duplicated('address').sum()\n",
    "museum_df.duplicated('name').sum()\n",
    "museum_df.duplicated('city').sum()\n",
    "museum_df.duplicated('phone').sum()\n",
    "museum_df.duplicated('state').sum()\n",
    "museum_df.duplicated('postal').sum()\n",
    "museum_df.duplicated('country').sum()\n",
    "museum_df.duplicated('url').sum()\n",
    "\n"
   ]
  },
  {
   "cell_type": "code",
   "execution_count": 86,
   "id": "6784ac65",
   "metadata": {},
   "outputs": [],
   "source": [
    "museum_df.to_csv('museum_clean.csv', encoding='utf-8')"
   ]
  },
  {
   "cell_type": "markdown",
   "id": "d6d0d5f2",
   "metadata": {},
   "source": [
    "# Data cleaning for the work"
   ]
  },
  {
   "cell_type": "code",
   "execution_count": 2,
   "id": "437ad382",
   "metadata": {},
   "outputs": [],
   "source": [
    " work_df = pd.read_csv('work.csv') \n"
   ]
  },
  {
   "cell_type": "code",
   "execution_count": 3,
   "id": "6effdf16",
   "metadata": {},
   "outputs": [
    {
     "data": {
      "text/html": [
       "<div>\n",
       "<style scoped>\n",
       "    .dataframe tbody tr th:only-of-type {\n",
       "        vertical-align: middle;\n",
       "    }\n",
       "\n",
       "    .dataframe tbody tr th {\n",
       "        vertical-align: top;\n",
       "    }\n",
       "\n",
       "    .dataframe thead th {\n",
       "        text-align: right;\n",
       "    }\n",
       "</style>\n",
       "<table border=\"1\" class=\"dataframe\">\n",
       "  <thead>\n",
       "    <tr style=\"text-align: right;\">\n",
       "      <th></th>\n",
       "      <th>work_id</th>\n",
       "      <th>name</th>\n",
       "      <th>artist_id</th>\n",
       "      <th>style</th>\n",
       "      <th>museum_id</th>\n",
       "    </tr>\n",
       "  </thead>\n",
       "  <tbody>\n",
       "    <tr>\n",
       "      <th>0</th>\n",
       "      <td>160228</td>\n",
       "      <td>Still Life with Flowers and a Watch</td>\n",
       "      <td>615</td>\n",
       "      <td>Baroque</td>\n",
       "      <td>43.0</td>\n",
       "    </tr>\n",
       "    <tr>\n",
       "      <th>1</th>\n",
       "      <td>160236</td>\n",
       "      <td>Still Life with Fruit and a Beaker on a Cock's...</td>\n",
       "      <td>615</td>\n",
       "      <td>Baroque</td>\n",
       "      <td>43.0</td>\n",
       "    </tr>\n",
       "    <tr>\n",
       "      <th>2</th>\n",
       "      <td>160244</td>\n",
       "      <td>Still Life with Fruit and a Goldfinch</td>\n",
       "      <td>615</td>\n",
       "      <td>Baroque</td>\n",
       "      <td>43.0</td>\n",
       "    </tr>\n",
       "    <tr>\n",
       "      <th>3</th>\n",
       "      <td>160252</td>\n",
       "      <td>Still Life with Fruit and Oysters</td>\n",
       "      <td>615</td>\n",
       "      <td>Baroque</td>\n",
       "      <td>43.0</td>\n",
       "    </tr>\n",
       "    <tr>\n",
       "      <th>4</th>\n",
       "      <td>160260</td>\n",
       "      <td>Still Life with Fruit, Oysters, and a Porcelai...</td>\n",
       "      <td>615</td>\n",
       "      <td>Baroque</td>\n",
       "      <td>43.0</td>\n",
       "    </tr>\n",
       "  </tbody>\n",
       "</table>\n",
       "</div>"
      ],
      "text/plain": [
       "   work_id                                               name  artist_id  \\\n",
       "0   160228                Still Life with Flowers and a Watch        615   \n",
       "1   160236  Still Life with Fruit and a Beaker on a Cock's...        615   \n",
       "2   160244              Still Life with Fruit and a Goldfinch        615   \n",
       "3   160252                  Still Life with Fruit and Oysters        615   \n",
       "4   160260  Still Life with Fruit, Oysters, and a Porcelai...        615   \n",
       "\n",
       "     style  museum_id  \n",
       "0  Baroque       43.0  \n",
       "1  Baroque       43.0  \n",
       "2  Baroque       43.0  \n",
       "3  Baroque       43.0  \n",
       "4  Baroque       43.0  "
      ]
     },
     "execution_count": 3,
     "metadata": {},
     "output_type": "execute_result"
    }
   ],
   "source": [
    "work_df.head(5)"
   ]
  },
  {
   "cell_type": "code",
   "execution_count": 4,
   "id": "94c9d0cb",
   "metadata": {},
   "outputs": [
    {
     "data": {
      "text/plain": [
       "0"
      ]
     },
     "execution_count": 4,
     "metadata": {},
     "output_type": "execute_result"
    }
   ],
   "source": [
    "# check for missing artist id in the work table\n",
    "work_df['artist_id'].isnull().sum()\n"
   ]
  },
  {
   "cell_type": "code",
   "execution_count": 5,
   "id": "26c17326",
   "metadata": {},
   "outputs": [
    {
     "data": {
      "text/plain": [
       "0"
      ]
     },
     "execution_count": 5,
     "metadata": {},
     "output_type": "execute_result"
    }
   ],
   "source": [
    "# check for missing work id in the work table\n",
    "work_df['work_id'].isnull().sum()\n"
   ]
  },
  {
   "cell_type": "code",
   "execution_count": 7,
   "id": "589de909",
   "metadata": {},
   "outputs": [
    {
     "data": {
      "text/plain": [
       "10223"
      ]
     },
     "execution_count": 7,
     "metadata": {},
     "output_type": "execute_result"
    }
   ],
   "source": [
    "#check for missing museum id in the work table\n",
    "work_df['museum_id'].isnull().sum()\n",
    "# blank museum_id is acceptable as it indicates that the work is not displayed in any musesum. "
   ]
  },
  {
   "cell_type": "code",
   "execution_count": 6,
   "id": "064c043d",
   "metadata": {},
   "outputs": [],
   "source": [
    "# Using fillna for replacing the missing values in museum is in the work table\n",
    "work_df['museum_id'].fillna(0,inplace=True)\n"
   ]
  },
  {
   "cell_type": "code",
   "execution_count": 7,
   "id": "b121b018",
   "metadata": {},
   "outputs": [
    {
     "data": {
      "text/html": [
       "<div>\n",
       "<style scoped>\n",
       "    .dataframe tbody tr th:only-of-type {\n",
       "        vertical-align: middle;\n",
       "    }\n",
       "\n",
       "    .dataframe tbody tr th {\n",
       "        vertical-align: top;\n",
       "    }\n",
       "\n",
       "    .dataframe thead th {\n",
       "        text-align: right;\n",
       "    }\n",
       "</style>\n",
       "<table border=\"1\" class=\"dataframe\">\n",
       "  <thead>\n",
       "    <tr style=\"text-align: right;\">\n",
       "      <th></th>\n",
       "      <th>work_id</th>\n",
       "      <th>name</th>\n",
       "      <th>artist_id</th>\n",
       "      <th>style</th>\n",
       "      <th>museum_id</th>\n",
       "    </tr>\n",
       "  </thead>\n",
       "  <tbody>\n",
       "    <tr>\n",
       "      <th>0</th>\n",
       "      <td>160228</td>\n",
       "      <td>Still Life with Flowers and a Watch</td>\n",
       "      <td>615</td>\n",
       "      <td>Baroque</td>\n",
       "      <td>43.0</td>\n",
       "    </tr>\n",
       "    <tr>\n",
       "      <th>1</th>\n",
       "      <td>160236</td>\n",
       "      <td>Still Life with Fruit and a Beaker on a Cock's...</td>\n",
       "      <td>615</td>\n",
       "      <td>Baroque</td>\n",
       "      <td>43.0</td>\n",
       "    </tr>\n",
       "    <tr>\n",
       "      <th>2</th>\n",
       "      <td>160244</td>\n",
       "      <td>Still Life with Fruit and a Goldfinch</td>\n",
       "      <td>615</td>\n",
       "      <td>Baroque</td>\n",
       "      <td>43.0</td>\n",
       "    </tr>\n",
       "    <tr>\n",
       "      <th>3</th>\n",
       "      <td>160252</td>\n",
       "      <td>Still Life with Fruit and Oysters</td>\n",
       "      <td>615</td>\n",
       "      <td>Baroque</td>\n",
       "      <td>43.0</td>\n",
       "    </tr>\n",
       "    <tr>\n",
       "      <th>4</th>\n",
       "      <td>160260</td>\n",
       "      <td>Still Life with Fruit, Oysters, and a Porcelai...</td>\n",
       "      <td>615</td>\n",
       "      <td>Baroque</td>\n",
       "      <td>43.0</td>\n",
       "    </tr>\n",
       "    <tr>\n",
       "      <th>5</th>\n",
       "      <td>160268</td>\n",
       "      <td>The Overturned Bouquet</td>\n",
       "      <td>615</td>\n",
       "      <td>Baroque</td>\n",
       "      <td>43.0</td>\n",
       "    </tr>\n",
       "    <tr>\n",
       "      <th>6</th>\n",
       "      <td>125752</td>\n",
       "      <td>Arabian Horses at Pasture</td>\n",
       "      <td>757</td>\n",
       "      <td>Baroque</td>\n",
       "      <td>0.0</td>\n",
       "    </tr>\n",
       "    <tr>\n",
       "      <th>7</th>\n",
       "      <td>125818</td>\n",
       "      <td>Count Halm on His Basedow Estate</td>\n",
       "      <td>757</td>\n",
       "      <td>Baroque</td>\n",
       "      <td>0.0</td>\n",
       "    </tr>\n",
       "    <tr>\n",
       "      <th>8</th>\n",
       "      <td>23448</td>\n",
       "      <td>Horses at the Porch</td>\n",
       "      <td>757</td>\n",
       "      <td>Baroque</td>\n",
       "      <td>34.0</td>\n",
       "    </tr>\n",
       "    <tr>\n",
       "      <th>9</th>\n",
       "      <td>125763</td>\n",
       "      <td>Napoleon Before the Burning City of Smolensk</td>\n",
       "      <td>757</td>\n",
       "      <td>Baroque</td>\n",
       "      <td>0.0</td>\n",
       "    </tr>\n",
       "    <tr>\n",
       "      <th>10</th>\n",
       "      <td>125774</td>\n",
       "      <td>Peasants Resting in the Field</td>\n",
       "      <td>757</td>\n",
       "      <td>Baroque</td>\n",
       "      <td>0.0</td>\n",
       "    </tr>\n",
       "    <tr>\n",
       "      <th>11</th>\n",
       "      <td>125785</td>\n",
       "      <td>Portrait Oberleutnant Theodor Von Klein</td>\n",
       "      <td>757</td>\n",
       "      <td>Baroque</td>\n",
       "      <td>0.0</td>\n",
       "    </tr>\n",
       "    <tr>\n",
       "      <th>12</th>\n",
       "      <td>125796</td>\n",
       "      <td>The Rescue of Count Munnich</td>\n",
       "      <td>757</td>\n",
       "      <td>Baroque</td>\n",
       "      <td>0.0</td>\n",
       "    </tr>\n",
       "    <tr>\n",
       "      <th>13</th>\n",
       "      <td>125807</td>\n",
       "      <td>The Stable Yard</td>\n",
       "      <td>757</td>\n",
       "      <td>Baroque</td>\n",
       "      <td>0.0</td>\n",
       "    </tr>\n",
       "    <tr>\n",
       "      <th>14</th>\n",
       "      <td>24532</td>\n",
       "      <td>Jacob A. Stamler Departing Le Havre</td>\n",
       "      <td>563</td>\n",
       "      <td>NaN</td>\n",
       "      <td>0.0</td>\n",
       "    </tr>\n",
       "  </tbody>\n",
       "</table>\n",
       "</div>"
      ],
      "text/plain": [
       "    work_id                                               name  artist_id  \\\n",
       "0    160228                Still Life with Flowers and a Watch        615   \n",
       "1    160236  Still Life with Fruit and a Beaker on a Cock's...        615   \n",
       "2    160244              Still Life with Fruit and a Goldfinch        615   \n",
       "3    160252                  Still Life with Fruit and Oysters        615   \n",
       "4    160260  Still Life with Fruit, Oysters, and a Porcelai...        615   \n",
       "5    160268                             The Overturned Bouquet        615   \n",
       "6    125752                          Arabian Horses at Pasture        757   \n",
       "7    125818                   Count Halm on His Basedow Estate        757   \n",
       "8     23448                                Horses at the Porch        757   \n",
       "9    125763       Napoleon Before the Burning City of Smolensk        757   \n",
       "10   125774                      Peasants Resting in the Field        757   \n",
       "11   125785            Portrait Oberleutnant Theodor Von Klein        757   \n",
       "12   125796                        The Rescue of Count Munnich        757   \n",
       "13   125807                                    The Stable Yard        757   \n",
       "14    24532                Jacob A. Stamler Departing Le Havre        563   \n",
       "\n",
       "      style  museum_id  \n",
       "0   Baroque       43.0  \n",
       "1   Baroque       43.0  \n",
       "2   Baroque       43.0  \n",
       "3   Baroque       43.0  \n",
       "4   Baroque       43.0  \n",
       "5   Baroque       43.0  \n",
       "6   Baroque        0.0  \n",
       "7   Baroque        0.0  \n",
       "8   Baroque       34.0  \n",
       "9   Baroque        0.0  \n",
       "10  Baroque        0.0  \n",
       "11  Baroque        0.0  \n",
       "12  Baroque        0.0  \n",
       "13  Baroque        0.0  \n",
       "14      NaN        0.0  "
      ]
     },
     "execution_count": 7,
     "metadata": {},
     "output_type": "execute_result"
    }
   ],
   "source": [
    "# NaN value for a museum id means the work is not displayed in any museum.As a result, those rows will be ignored. \n",
    "work_df.head(15)\n"
   ]
  },
  {
   "cell_type": "code",
   "execution_count": 8,
   "id": "da6ce89e",
   "metadata": {},
   "outputs": [
    {
     "data": {
      "text/plain": [
       "60"
      ]
     },
     "execution_count": 8,
     "metadata": {},
     "output_type": "execute_result"
    }
   ],
   "source": [
    "# Checking for duplicates \n",
    "work_df.duplicated('work_id').sum()\n"
   ]
  },
  {
   "cell_type": "code",
   "execution_count": 9,
   "id": "013868e6",
   "metadata": {},
   "outputs": [],
   "source": [
    "# As work_id contains duplicates , removing the duplicate will provide clarity in understanding the data.\n",
    "\n",
    "work_df= work_df.drop_duplicates()\n"
   ]
  },
  {
   "cell_type": "code",
   "execution_count": 10,
   "id": "06fe8985",
   "metadata": {},
   "outputs": [
    {
     "data": {
      "text/plain": [
       "0"
      ]
     },
     "execution_count": 10,
     "metadata": {},
     "output_type": "execute_result"
    }
   ],
   "source": [
    "work_df.duplicated('work_id').sum()\n"
   ]
  },
  {
   "cell_type": "code",
   "execution_count": 11,
   "id": "7e04fe79",
   "metadata": {},
   "outputs": [
    {
     "data": {
      "text/plain": [
       "14295"
      ]
     },
     "execution_count": 11,
     "metadata": {},
     "output_type": "execute_result"
    }
   ],
   "source": [
    "work_df.duplicated('artist_id').sum()\n",
    "# artist Id can be duplicated because a single artist can have multiple works "
   ]
  },
  {
   "cell_type": "code",
   "execution_count": 12,
   "id": "c93f6014",
   "metadata": {},
   "outputs": [
    {
     "data": {
      "text/plain": [
       "14658"
      ]
     },
     "execution_count": 12,
     "metadata": {},
     "output_type": "execute_result"
    }
   ],
   "source": [
    "work_df.duplicated('museum_id').sum()\n",
    "# Museum Id can be duplicated because a single Artist can have multiple works which could be displayed at the same museum\n"
   ]
  },
  {
   "cell_type": "code",
   "execution_count": 13,
   "id": "c6c70667",
   "metadata": {},
   "outputs": [],
   "source": [
    " work_df.to_csv('work_clean.csv', encoding='utf-8')"
   ]
  },
  {
   "cell_type": "code",
   "execution_count": null,
   "id": "a8f60024",
   "metadata": {},
   "outputs": [],
   "source": []
  }
 ],
 "metadata": {
  "kernelspec": {
   "display_name": "Python 3 (ipykernel)",
   "language": "python",
   "name": "python3"
  },
  "language_info": {
   "codemirror_mode": {
    "name": "ipython",
    "version": 3
   },
   "file_extension": ".py",
   "mimetype": "text/x-python",
   "name": "python",
   "nbconvert_exporter": "python",
   "pygments_lexer": "ipython3",
   "version": "3.11.5"
  }
 },
 "nbformat": 4,
 "nbformat_minor": 5
}
